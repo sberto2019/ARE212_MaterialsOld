{
 "cells": [
  {
   "cell_type": "markdown",
   "metadata": {},
   "source": [
    "# [ARE 212] Discussion Section - Python 05"
   ]
  },
  {
   "cell_type": "markdown",
   "metadata": {},
   "source": [
    "- [Ethan's materials](https://github.com/ligonteaching/ARE212_Materials)"
   ]
  },
  {
   "cell_type": "markdown",
   "metadata": {},
   "source": [
    "### Source Material"
   ]
  },
  {
   "cell_type": "markdown",
   "metadata": {},
   "source": [
    "These notes are the fruits of arduous labor of others.  My contributions are minimual, but please expect to find some code (and even explanation) errors (and assume them all to be mine). If you find any mistakes or have questions, please [let me know](mailto:benjaminkrause@berkeley.edu).\n",
    "    \n",
    "The primary sources of these notes are:\n",
    "- Ethan and in particular his EEP 153 Notes\n",
    "- [Computational and Inferential Thinking: The Foundations of Data Science](https://www.inferentialthinking.com/chapters/intro.html) which is the textbook for UC Berkeley's [Data 8: The Foundations of Data Science](http://data8.org/) course.  All of the notes, readings, labs, and assignments are fully available online as well.  For instance, here is [Spring 2020](http://data8.org/sp20/).\n",
    "- [Python Data Science Handbook](https://jakevdp.github.io/PythonDataScienceHandbook/)"
   ]
  },
  {
   "cell_type": "markdown",
   "metadata": {},
   "source": [
    "### Follow-up from questions posed last week\n",
    "- [Discussion Topics](https://bcourses.berkeley.edu/courses/1487913/discussion_topics) Grading\n",
    "    - See my annoucement [Updating on grading Discussion Topic Participation](https://bcourses.berkeley.edu/courses/1487913/discussion_topics/5763978) for full details\n",
    "    - \"If you did not receive a message from me, know that you are on track to receive full  credit for this portion of your grade.\"\n",
    "    - \"Please know that we encourage you to continue participating, and we will continue accepting contributions through the reading week.\"\n",
    "- Considering switching to S/U for the semester?\n",
    "    - You must do this yourself by May 8th, 2020 through [CALCENTRAL](https://calcentral.berkeley.edu/academics)\n",
    "    - Here is a general explanation and step-by-step instructions for [Change Grading Option](https://sis.berkeley.edu/change-grading-option)\n",
    "- [Final Exam](https://github.com/ligonteaching/ARE212_Materials#final-exam)\n",
    "    - \"The final exam will be “take-home”, and be made available by 6pm on Monday, May 11. It will be due 24 hours later, by 6pm Tuesday May 12.\"\n",
    "    - Reivew \n",
    "        - the materials on [Ethan's Github](https://github.com/ligonteaching/ARE212_Materials#final-exam)\n",
    "            - Read through the notes that Ethan has provided\n",
    "            - Re-watch portions of the lecture that you need more work on\n",
    "        - [Discussion Topics](https://bcourses.berkeley.edu/courses/1487913/discussion_topics)\n",
    "            - Note the comments with \"likes\" as these are from Ethan\n",
    "            - Consider reading through all comments one time so that you do not spend too much time focused on a comment that ended up being a wrong direction\n",
    "            - Ethan intends to post a summarizing comment at the end of each topic thread pointinng to the correct answers and summarizing takeaways.\n",
    "        - Notes from [Section](https://github.com/ligonteaching/ARE212_Materials/tree/master/Section)"
   ]
  },
  {
   "cell_type": "markdown",
   "metadata": {},
   "source": [
    "## Review Lecture Jupyter Notebooks 4"
   ]
  },
  {
   "cell_type": "markdown",
   "metadata": {},
   "source": [
    "### Learning Goals Today"
   ]
  },
  {
   "cell_type": "markdown",
   "metadata": {},
   "source": [
    "7.  Review [gmm_finite_samples](https://github.com/ligonteaching/ARE212_Materials/blob/master/gmm_finite_samples.ipynb)\n",
    "\n",
    "8.  Review [gmm_logit](https://github.com/ligonteaching/ARE212_Materials/blob/master/gmm_logit.ipynb)\n",
    "\n",
    "9.  Review [linear-non-linear](https://github.com/ligonteaching/ARE212_Materials/blob/master/linear-non-linear.ipynb)\n",
    "\n",
    "10.  Student Code Discussions\n",
    "    - a. Elif Tasar \n",
    "    - b. Sara Johns\n",
    "\n",
    "#### Previous Section Materials:\n",
    "- Introduction from the first week at `[ARE 212] Discussion Section - Python 01` on [datahub](https://datahub.berkeley.edu/user/benjaminkrause/notebooks/ARE212_Discussion_Section/%5BARE%20212%5D%20Discussion%20Section%20-%20Python%2001.ipynb) and [github](https://github.com/ligonteaching/ARE212_Materials/blob/master/Section/%5BARE%20212%5D%20Discussion%20Section%20-%20Python%2001.ipynb)\n",
    "- Review of Lecture Jupyter Notebooks 1 at `[ARE 212] Discussion Section - Python 02` on [datahub](https://datahub.berkeley.edu/user/benjaminkrause/notebooks/ARE212_Discussion_Section/%5BARE%20212%5D%20Discussion%20Section%20-%20Python%2002.ipynb#) and [github](https://github.com/ligonteaching/ARE212_Materials/blob/master/Section/%5BARE%20212%5D%20Discussion%20Section%20-%20Python%2002.ipynb)\n",
    "- Review of Lecture Jupyter Notebooks 2 at `[ARE 212] Discussion Section - Python 03` on [datahub](https://datahub.berkeley.edu/user/benjaminkrause/notebooks/ARE212_Discussion_Section/%5BARE%20212%5D%20Discussion%20Section%20-%20Python%2003.ipynb) and [github](https://github.com/ligonteaching/ARE212_Materials/blob/master/Section/%5BARE%20212%5D%20Discussion%20Section%20-%20Python%2003.ipynb)\n",
    "- Review of Lecture Jupyter Notebooks 3 at `[ARE 212] Discussion Section - Python 04` on [datahub](https://datahub.berkeley.edu/user/benjaminkrause/notebooks/ARE212_Discussion_Section/%5BARE%20212%5D%20Discussion%20Section%20-%20Python%2004.ipynb) and [github](https://github.com/ligonteaching/ARE212_Materials/blob/master/Section/%5BARE%20212%5D%20Discussion%20Section%20-%20Python%2004.ipynb)\n",
    "\n",
    "- Or all of my Juptyer Notebooks to date in the [Section](https://github.com/ligonteaching/ARE212_Materials/tree/master/Section) folder on [Ethan's Github](https://github.com/ligonteaching/ARE212_Materials)"
   ]
  },
  {
   "cell_type": "markdown",
   "metadata": {},
   "source": [
    "#### Open a `jupyter` notebook on [Google Colab](https://colab.research.google.com/notebooks/intro.ipynb#recent=true)"
   ]
  },
  {
   "cell_type": "markdown",
   "metadata": {},
   "source": [
    "1. Add the [Google Chrome Extension for Colab](https://chrome.google.com/webstore/detail/open-in-colab/iogfkhleblhcpcekbiedikdehleodpjo?hl=en) to your browser\n",
    "2. Navigate to a `Jupyter Notebook` file in `Github`\n",
    "3. Click on the `Colab` icon at the top of your browser.\n",
    "\n",
    "A new functional instance of the `Jupyter Notebook` should open in a new tab your browser."
   ]
  },
  {
   "cell_type": "markdown",
   "metadata": {},
   "source": [
    "#### Open a `jupyter` notebook on [datahub.berkeley.edu](https://datahub.berkeley.edu/)"
   ]
  },
  {
   "cell_type": "markdown",
   "metadata": {},
   "source": [
    "1. Open the website [URL to Interact](https://url-to-interact.herokuapp.com/)\n",
    "2. For `1. Choose your desired hub:` select `datahub.berkeley.edu`\n",
    "3. Either navigate to [my github](https://github.com/bk-econ/share) page and select the `URL` of the correct section or simply copy it from right here: https://github.com/bk-econ/share/blob/master/%5BARE%20212%5D%20Discussion%20Section%20-%20Python%2001.ipynb\n",
    "4. Paste the `URL` you copied in the previous step into `2. Paste the GitHub URL for your file or folder in the box below.`\n",
    "5. Click `Convert to interact link!`\n",
    "6. Copy the new `URL` generated in field `4. Your interact link URL will appear in the box below.`\n",
    "7. Paste the new `URL` in any web browser and get to it!"
   ]
  },
  {
   "cell_type": "markdown",
   "metadata": {},
   "source": [
    "## 7. [gmm_finite_samples](https://datahub.berkeley.edu/user/benjaminkrause/notebooks/ARE212_Materials/gmm_finite_samples.ipynb)"
   ]
  },
  {
   "cell_type": "markdown",
   "metadata": {},
   "source": [
    "or see [gmm_finite_samples on github](https://github.com/ligonteaching/ARE212_Materials/blob/master/gmm_finite_samples.ipynb)"
   ]
  },
  {
   "cell_type": "markdown",
   "metadata": {},
   "source": [
    "## Finite Sample Properties of Linear GMM\n",
    "\n"
   ]
  },
  {
   "cell_type": "markdown",
   "metadata": {},
   "source": [
    "### Introduction\n",
    "\n"
   ]
  },
  {
   "cell_type": "markdown",
   "metadata": {},
   "source": [
    "GMM provides a generalized way to think about instrumental\n",
    "variables estimators, and we also have evidence that the finite\n",
    "sample properties of these estimators may be poor.  Here we&rsquo;ll\n",
    "construct a simple Monte Carlo framework within which to evaluate\n",
    "the finite-sample behavior of GMM linear IV estimators.\n",
    "\n"
   ]
  },
  {
   "cell_type": "markdown",
   "metadata": {},
   "source": [
    "### Asymptotic Variance of GMM estimator\n",
    "\n"
   ]
  },
  {
   "cell_type": "markdown",
   "metadata": {},
   "source": [
    "If we have $\\mbox{E}g_j(\\beta)g_j(\\beta)^\\top=\\Omega$ and\n",
    "$\\mbox{E}\\frac{\\partial g_j}{\\partial b^\\top}(\\beta)=Q$ then we&rsquo;ve\n",
    "seen that the asymptotic variance of the optimally weighted GMM\n",
    "estimator is\n",
    "$$\n",
    "       V_b = \\left(Q^\\top\\Omega^{-1}Q\\right)^{-1}.\n",
    "   $$\n",
    "\n"
   ]
  },
  {
   "cell_type": "markdown",
   "metadata": {},
   "source": [
    "### Data Generating Process\n",
    "\n"
   ]
  },
  {
   "cell_type": "markdown",
   "metadata": {},
   "source": [
    "We consider the linear IV model\n",
    "\n",
    "\\begin{align*}\n",
    "   y &= X\\beta + u\\\\\n",
    "   \\mbox{E}Z^\\top u &= 0\n",
    "\\end{align*}\n",
    "\n",
    "Thus, we need to describe processes that generate $(X,Z,u)$.\n",
    "\n",
    "The following code block defines the important parameters governing\n",
    "the DGP; this is the &ldquo;TRUTH&rdquo; we&rsquo;re designing tools to reveal.  \n",
    "\n"
   ]
  },
  {
   "cell_type": "code",
   "execution_count": 5,
   "metadata": {},
   "outputs": [
    {
     "name": "stdout",
     "output_type": "stream",
     "text": [
      "[[0.73115722]]\n"
     ]
    }
   ],
   "source": [
    "# 7.1 ORIGINAL CODE\n",
    "\n",
    "import numpy as np\n",
    "from numpy.linalg import inv\n",
    "\n",
    "## Play with us!\n",
    "beta = 1     # \"Coefficient of interest\"\n",
    "gamma = 1    # Governs effect of u on X\n",
    "sigma_u = 1  # Note assumption of homoskedasticity\n",
    "## Play with us!\n",
    "\n",
    "# Let Z have order ell, and X order 1, with Var([X,Z]|u)=VXZ\n",
    "\n",
    "ell = 4 # Play with me too!\n",
    "\n",
    "# Arbitrary (but deterministic) choice for VXZ\n",
    "A = np.sqrt(1/np.arange(1,(ell+1)**2+1)).reshape((ell+1,ell+1)) \n",
    "\n",
    "\n",
    "## Below here we're less playful.\n",
    "\n",
    "# Var([X,Z]|u) is constructed so that pos. def.\n",
    "VXZ = A.T@A \n",
    "\n",
    "Q = VXZ[1:,[0]]  # EZX'\n",
    "\n",
    "truth = (beta,gamma,sigma_u,VXZ)\n",
    "\n",
    "## But play with Omega if you want to introduce heteroskedascity\n",
    "Omega = (sigma_u**2)*VXZ[1:,1:] # E(Zu)(u'Z')\n",
    "\n",
    "# Asymptotic variance of optimally weighted GMM estimator:\n",
    "print(inv(Q.T@inv(Omega)@Q))"
   ]
  },
  {
   "cell_type": "markdown",
   "metadata": {},
   "source": [
    "<font color='red'> *notes*: </font>\n",
    "- `np.linalg.inv`: \"Compute the (multiplicative) inverse of a matrix.\"\n",
    "- `np.arange`: \"Return evenly spaced values within a given interval.\" <br>\n",
    "arange([start,] stop[, step,], dtype=None) <br> \n",
    "where `dtype` gives \"The type of the output array.  If `dtype` is not given, infer the data type from the other input arguments. <br> NOTE: not \"arRange\" but \"a range\".\n",
    "- `np.reshape`\n",
    "- `'\\n'`: carriage return (i.e. new line) `print()`"
   ]
  },
  {
   "cell_type": "code",
   "execution_count": 6,
   "metadata": {},
   "outputs": [
    {
     "name": "stdout",
     "output_type": "stream",
     "text": [
      "aRange =  [0 1 2]\n"
     ]
    }
   ],
   "source": [
    "# 7.1a Demonstrating np.arange and np.reshape\n",
    "\n",
    "# Create an np.ndarray made up of the integers from 0 to (but not including) 3\n",
    "aRange = np.arange(3)\n",
    "print(\"aRange = \", aRange)"
   ]
  },
  {
   "cell_type": "code",
   "execution_count": 7,
   "metadata": {},
   "outputs": [
    {
     "name": "stdout",
     "output_type": "stream",
     "text": [
      "<class 'numpy.ndarray'>\n",
      "Is aRange an np.ndarray?  True\n"
     ]
    }
   ],
   "source": [
    "# 7.1b Demonstrating np.arange and np.reshape\n",
    "\n",
    "# check the type\n",
    "print(type(aRange))\n",
    "\n",
    "# boolean test \n",
    "# print(\"Is aRange an array? \", isinstance(aRange, array)) # array is NOT a type\n",
    "# print(\"Is aRange an np.array? \", isinstance(aRange, np.array)) # np.array is NOT a type, but np.array() is a method\n",
    "print(\"Is aRange an np.ndarray? \", isinstance(aRange, np.ndarray)) # there we go"
   ]
  },
  {
   "cell_type": "code",
   "execution_count": 8,
   "metadata": {},
   "outputs": [
    {
     "name": "stdout",
     "output_type": "stream",
     "text": [
      "aRange2 =  \n",
      " [[0 1]\n",
      " [2 3]\n",
      " [4 5]]\n",
      "<class 'numpy.ndarray'>\n"
     ]
    }
   ],
   "source": [
    "# 7.1c Demonstrating np.arange and np.reshape\n",
    "\n",
    "# Create an np.ndarray made up of the integers from 0 to (but not including) 6\n",
    "### and reshape it into a 3x2 np.ndarray\n",
    "aRange2 = np.arange(6).reshape((3, 2))\n",
    "print(\"aRange2 = \", '\\n', aRange2)\n",
    "print(type(aRange2))"
   ]
  },
  {
   "cell_type": "code",
   "execution_count": 9,
   "metadata": {},
   "outputs": [
    {
     "name": "stdout",
     "output_type": "stream",
     "text": [
      "[10 13]\n",
      "[10 13]\n",
      "\n"
     ]
    }
   ],
   "source": [
    "# 7.1d Demonstrating np.arange and np.reshape\n",
    "\n",
    "# Note that for matrix multiplication, np conforms nx1 or 1xn automatically\n",
    "print(aRange.T@aRange2)\n",
    "print(aRange@aRange2)\n",
    "print()"
   ]
  },
  {
   "cell_type": "code",
   "execution_count": 10,
   "metadata": {},
   "outputs": [
    {
     "name": "stdout",
     "output_type": "stream",
     "text": [
      "[[20 26]\n",
      " [26 35]]\n",
      "[[ 1  3  5]\n",
      " [ 3 13 23]\n",
      " [ 5 23 41]]\n"
     ]
    }
   ],
   "source": [
    "# 7.1e Demonstrating np.arange and np.reshape\n",
    "\n",
    "# But this is of course not the case for higher dimensions\n",
    "bRange2 = np.arange(6).reshape((3, 2))\n",
    "#print(bRange2@aRange2) # won't run because it is a 3x2 %*% 3x2\n",
    "#print(aRange2@bRange2) # won't run because it is a 3x2 %*% 3x2\n",
    "\n",
    "print(bRange2.T@aRange2) # 2x3 %*% 3x2 = 2x2\n",
    "print(bRange2@aRange2.T) # 3x2 %*% 2x3 = 3x3"
   ]
  },
  {
   "cell_type": "code",
   "execution_count": 11,
   "metadata": {},
   "outputs": [
    {
     "name": "stdout",
     "output_type": "stream",
     "text": [
      "(ell+1)**2+1 =  26\n",
      "\n",
      "np.arange(1,(ell+1)**2+1) =  \n",
      " [ 1  2  3  4  5  6  7  8  9 10 11 12 13 14 15 16 17 18 19 20 21 22 23 24\n",
      " 25]\n",
      "\n",
      "1/np.arange(1,(ell+1)**2+1) =  \n",
      " [1.         0.5        0.33333333 0.25       0.2        0.16666667\n",
      " 0.14285714 0.125      0.11111111 0.1        0.09090909 0.08333333\n",
      " 0.07692308 0.07142857 0.06666667 0.0625     0.05882353 0.05555556\n",
      " 0.05263158 0.05       0.04761905 0.04545455 0.04347826 0.04166667\n",
      " 0.04      ]\n",
      "\n",
      "np.sqrt(1/np.arange(1,(ell+1)**2+1)) =  \n",
      " [1.         0.70710678 0.57735027 0.5        0.4472136  0.40824829\n",
      " 0.37796447 0.35355339 0.33333333 0.31622777 0.30151134 0.28867513\n",
      " 0.2773501  0.26726124 0.25819889 0.25       0.24253563 0.23570226\n",
      " 0.22941573 0.2236068  0.21821789 0.21320072 0.20851441 0.20412415\n",
      " 0.2       ]\n",
      "\n",
      "A (reshape into a 5x5 matrix) =  \n",
      " [[1.         0.70710678 0.57735027 0.5        0.4472136 ]\n",
      " [0.40824829 0.37796447 0.35355339 0.33333333 0.31622777]\n",
      " [0.30151134 0.28867513 0.2773501  0.26726124 0.25819889]\n",
      " [0.25       0.24253563 0.23570226 0.22941573 0.2236068 ]\n",
      " [0.21821789 0.21320072 0.20851441 0.20412415 0.2       ]]\n",
      "\n",
      "VXZ =  \n",
      " [[1.36769481 1.05560708 0.90973918 0.81856253 0.75370821]\n",
      " [1.05560708 0.83046855 0.72356461 0.65585413 0.60715898]\n",
      " [0.90973918 0.72356461 0.63429023 0.57728783 0.53602129]\n",
      " [0.81856253 0.65585413 0.57728783 0.52683793 0.49014636]\n",
      " [0.75370821 0.60715898 0.53602129 0.49014636 0.45666667]]\n",
      "\n",
      "Q =  \n",
      " [[1.05560708]\n",
      " [0.90973918]\n",
      " [0.81856253]\n",
      " [0.75370821]]\n",
      "<class 'numpy.ndarray'>\n",
      "\n",
      "Qreshape =  \n",
      " [[1.05560708]\n",
      " [0.90973918]\n",
      " [0.81856253]\n",
      " [0.75370821]]\n",
      "<class 'numpy.ndarray'>\n",
      "\n",
      "Q1xn =  \n",
      " [1.05560708 0.90973918 0.81856253 0.75370821]\n",
      "<class 'numpy.ndarray'>\n",
      "\n",
      "Q1xn =  \n",
      " [1.05560708 0.90973918 0.81856253 0.75370821]\n",
      "<class 'numpy.ndarray'>\n",
      "\n",
      "truth =  \n",
      " (1, 1, 1, array([[1.36769481, 1.05560708, 0.90973918, 0.81856253, 0.75370821],\n",
      "       [1.05560708, 0.83046855, 0.72356461, 0.65585413, 0.60715898],\n",
      "       [0.90973918, 0.72356461, 0.63429023, 0.57728783, 0.53602129],\n",
      "       [0.81856253, 0.65585413, 0.57728783, 0.52683793, 0.49014636],\n",
      "       [0.75370821, 0.60715898, 0.53602129, 0.49014636, 0.45666667]]))\n",
      "\n",
      "sigma_u^2 =  1\n",
      "\n",
      "Submatrix VXZ =  \n",
      " [[0.83046855 0.72356461 0.65585413 0.60715898]\n",
      " [0.72356461 0.63429023 0.57728783 0.53602129]\n",
      " [0.65585413 0.57728783 0.52683793 0.49014636]\n",
      " [0.60715898 0.53602129 0.49014636 0.45666667]]\n",
      "\n",
      "Omega =  \n",
      " [[0.83046855 0.72356461 0.65585413 0.60715898]\n",
      " [0.72356461 0.63429023 0.57728783 0.53602129]\n",
      " [0.65585413 0.57728783 0.52683793 0.49014636]\n",
      " [0.60715898 0.53602129 0.49014636 0.45666667]]\n",
      "\n",
      "Asymptotic variance of optimally weighted GMM estimator = \n",
      " [[0.73115722]]\n"
     ]
    }
   ],
   "source": [
    "# 7.1 CODE ABOVE WITH COMMENTS AND PRINTING\n",
    "\n",
    "### import NumPy module\n",
    "import numpy as np\n",
    "\n",
    "### import matrix inverse function from Core Linear Algebra Tools within NumPy module  \n",
    "from numpy.linalg import inv \n",
    "\n",
    "## Play with us!\n",
    "beta = 1     # \"Coefficient of interest\"\n",
    "gamma = 1    # Governs effect of u on X\n",
    "sigma_u = 1  # Note assumption of homoskedasticity\n",
    "## Play with us!\n",
    "\n",
    "# Let Z have order ell, and X order 1, with Var([X,Z]|u)=VXZ\n",
    "\n",
    "ell = 4 # Play with me too!\n",
    "\n",
    "# Arbitrary (but deterministic) choice for VXZ\n",
    "### Here I'm printing each step of the construction of the A matrix separately\n",
    "A4 = (ell+1)**2+1\n",
    "print(\"(ell+1)**2+1 = \", A4)\n",
    "print()\n",
    "\n",
    "A3 = np.arange(1,(ell+1)**2+1)\n",
    "print(\"np.arange(1,(ell+1)**2+1) = \", '\\n', A3)\n",
    "print()\n",
    "\n",
    "A2 = 1/np.arange(1,(ell+1)**2+1)\n",
    "print(\"1/np.arange(1,(ell+1)**2+1) = \", '\\n', A2)\n",
    "print()\n",
    "\n",
    "A1 = np.sqrt(1/np.arange(1,(ell+1)**2+1))\n",
    "print(\"np.sqrt(1/np.arange(1,(ell+1)**2+1)) = \", '\\n', A1)\n",
    "print()\n",
    "\n",
    "A = np.sqrt(1/np.arange(1,(ell+1)**2+1)).reshape((ell+1,ell+1)) \n",
    "print(\"A (reshape into a 5x5 matrix) = \", '\\n', A)\n",
    "print()\n",
    "\n",
    "## Below here we're less playful.\n",
    "\n",
    "# Var([X,Z]|u) is constructed so that pos. def.\n",
    "VXZ = A.T@A \n",
    "print(\"VXZ = \", '\\n', VXZ)\n",
    "print()\n",
    "\n",
    "Q = VXZ[1:,[0]]  # EZX'\n",
    "print(\"Q = \", '\\n', Q)\n",
    "print(type(Q))\n",
    "print()\n",
    "\n",
    "### Alternative ways to subset to Q (all equivalent)\n",
    "\n",
    "###### with reshape as we did above\n",
    "Qreshape = VXZ[1: , 0].reshape((4,1))  # EZX'\n",
    "print(\"Qreshape = \", '\\n', Qreshape)\n",
    "print(type(Qreshape))\n",
    "print()\n",
    "\n",
    "###### instead of calling the [0] list, just the 0 index\n",
    "###### this returns the transpose of Q, but as we've seen, that doesn't matter\n",
    "Q1xn = VXZ[1: , 0]  # EZX'\n",
    "print(\"Q1xn = \", '\\n', Q1xn)\n",
    "print(type(Q1xn))\n",
    "print()\n",
    "\n",
    "###### because we can also take the transpose of Q1xn and it is the same\n",
    "Q1xnT = VXZ[1: , 0].T  # EZX'\n",
    "print(\"Q1xn = \", '\\n', Q1xnT)\n",
    "print(type(Q1xnT))\n",
    "print()\n",
    "\n",
    "### Create a tuple of truth \n",
    "truth = (beta,gamma,sigma_u,VXZ)\n",
    "print('truth = ', '\\n', truth)\n",
    "print()\n",
    "\n",
    "## But play with Omega if you want to introduce heteroskedascity\n",
    "### note that we form Omega by multiplying the square of whatever we've defined sigma_u to be\n",
    "print(\"sigma_u^2 = \", sigma_u**2)\n",
    "print()\n",
    "\n",
    "### . . . by the 4x4 submatrix of VXZ\n",
    "print(\"Submatrix VXZ = \", '\\n', VXZ[1:,1:])\n",
    "print()\n",
    "\n",
    "Omega = (sigma_u**2)*VXZ[1:,1:] # E(Zu)(u'Z')\n",
    "print(\"Omega = \", '\\n', Omega)\n",
    "print()\n",
    "\n",
    "# Asymptotic variance of optimally weighted GMM estimator:\n",
    "print(\"Asymptotic variance of optimally weighted GMM estimator =\", '\\n', inv(Q.T@inv(Omega)@Q))"
   ]
  },
  {
   "cell_type": "markdown",
   "metadata": {},
   "source": [
    "Now code to generate $N$ realizations of $(y,X,Z)$ given some &ldquo;truth&rdquo;\n",
    "$(beta,gamma,sigma_u,VXZ)$:\n",
    "\n"
   ]
  },
  {
   "cell_type": "code",
   "execution_count": 12,
   "metadata": {},
   "outputs": [],
   "source": [
    "# 7.2 ORIGINAL CODE\n",
    "\n",
    "from scipy.stats import distributions as iid\n",
    "\n",
    "def dgp(N,beta,gamma,sigma_u,VXZ):\n",
    "    \"\"\"Generate a tuple of (y,X,Z).\n",
    "\n",
    "    Satisfies model:\n",
    "        y = X@beta + u\n",
    "        E Z'u = 0\n",
    "        Var(u) = sigma^2\n",
    "        Cov(X,u) = gamma*sigma_u^2\n",
    "        Var([X,Z}|u) = VXZ\n",
    "        u,X,Z mean zero, Gaussian\n",
    "\n",
    "    Each element of the tuple is an array of N observations.\n",
    "\n",
    "    Inputs include\n",
    "    - beta :: the coefficient of interest\n",
    "    - gamma :: linear effect of disturbance on X\n",
    "    - sigma_u :: Variance of disturbance\n",
    "    - VXZ :: Cov([X,Z|u])\n",
    "    \"\"\"\n",
    "    \n",
    "    u = iid.norm.rvs(size=(N,1))*sigma_u\n",
    "\n",
    "    # \"Square root\" of VXZ via eigendecomposition\n",
    "    lbda,v = np.linalg.eig(VXZ)\n",
    "    SXZ = v@np.diag(np.sqrt(lbda))\n",
    "\n",
    "    # Generate normal random variates [X*,Z]\n",
    "    XZ = iid.norm.rvs(size=(N,VXZ.shape[0]))@SXZ.T\n",
    "\n",
    "    # But X is endogenous...\n",
    "    X = XZ[:,[0]] + gamma*u\n",
    "    Z = XZ[:,1:]\n",
    "\n",
    "    # Calculate y\n",
    "    y = X*beta + u\n",
    "\n",
    "    return y,X,Z"
   ]
  },
  {
   "cell_type": "markdown",
   "metadata": {},
   "source": [
    "<font color='red'> *notes*: </font>\n",
    "- `np.linalg.eig()`: \"Compute the eigenvalues AND right eigenvectors of a square array.\" So that if you provide one object name, than the result will be a tuple of two arrays.  However, if you provide two object names separated by a comma (i.e. `lbda,v`) then the first (`lbda`) will get the eigenvalues and the second (`v`) will get eigenvectors. \n",
    "- `np.diag()`:\n",
    "    - If a square matrix $\\implies$ Extract a diagonal \n",
    "    - If a vector $\\implies$ construct a diagonal matrix\n",
    " "
   ]
  },
  {
   "cell_type": "code",
   "execution_count": 13,
   "metadata": {},
   "outputs": [
    {
     "name": "stdout",
     "output_type": "stream",
     "text": [
      "lbdaTest =  \n",
      " [3.76463575e+00 5.12643868e-02 5.80259584e-05 1.34293124e-08\n",
      " 4.65628716e-13]\n",
      "vTest =  \n",
      " [[-0.59688685 -0.71825399  0.33705315 -0.1163499   0.02636625]\n",
      " [-0.46967075 -0.0065264  -0.63020089  0.56972276 -0.24006167]\n",
      " [-0.40926716  0.26893012 -0.36209269 -0.46371233  0.64345687]\n",
      " [-0.37100897  0.41062694  0.11041632 -0.46612225 -0.68137812]\n",
      " [-0.34349412  0.49308287  0.58816591  0.47914465  0.25171875]]\n",
      "\n",
      "np.sqrt(lbdaTest) =  \n",
      " [1.94026693e+00 2.26416401e-01 7.61747717e-03 1.15884910e-04\n",
      " 6.82369926e-07]\n",
      "\n",
      "np.diag(np.sqrt(lbdaTest) =  \n",
      " [[1.94026693e+00 0.00000000e+00 0.00000000e+00 0.00000000e+00\n",
      "  0.00000000e+00]\n",
      " [0.00000000e+00 2.26416401e-01 0.00000000e+00 0.00000000e+00\n",
      "  0.00000000e+00]\n",
      " [0.00000000e+00 0.00000000e+00 7.61747717e-03 0.00000000e+00\n",
      "  0.00000000e+00]\n",
      " [0.00000000e+00 0.00000000e+00 0.00000000e+00 1.15884910e-04\n",
      "  0.00000000e+00]\n",
      " [0.00000000e+00 0.00000000e+00 0.00000000e+00 0.00000000e+00\n",
      "  6.82369926e-07]]\n",
      "\n"
     ]
    }
   ],
   "source": [
    "# 7.2a Demonstrating np.linalg.eig() and np.diag()\n",
    "\n",
    "### lbda gets the eigenvalues of VXZ and v gets the eigenvectors of VXZ\n",
    "lbdaTest,vTest = np.linalg.eig(VXZ)\n",
    "print(\"lbdaTest = \", '\\n', lbdaTest)\n",
    "print(\"vTest = \", '\\n', vTest)\n",
    "print()\n",
    "\n",
    "# the square root of lbdaTest\n",
    "sqrtLbdaTest = np.sqrt(lbdaTest)\n",
    "print(\"np.sqrt(lbdaTest) = \", '\\n', sqrtLbdaTest)\n",
    "print()\n",
    "\n",
    "# the extended diagonal matrix from the square root of lbdaTest\n",
    "diagSqrtLbdaTest = np.diag(np.sqrt(lbdaTest))\n",
    "print(\"np.diag(np.sqrt(lbdaTest) = \", '\\n', diagSqrtLbdaTest)\n",
    "print()\n"
   ]
  },
  {
   "cell_type": "code",
   "execution_count": 14,
   "metadata": {},
   "outputs": [
    {
     "name": "stdout",
     "output_type": "stream",
     "text": [
      "vTest @ np.diag(np.sqrt(lbdaTest) =  \n",
      " [[-1.15811981e+00 -1.62624483e-01  2.56749465e-03 -1.34831977e-05\n",
      "   1.79915349e-08]\n",
      " [-9.11286628e-01 -1.47768317e-03 -4.80054089e-03  6.60222708e-05\n",
      "  -1.63810865e-07]\n",
      " [-7.94087527e-01  6.08901896e-02 -2.75823278e-03 -5.37372621e-05\n",
      "   4.39075618e-07]\n",
      " [-7.19856444e-01  9.29726747e-02  8.41093830e-04 -5.40165346e-05\n",
      "  -4.64951935e-07]\n",
      " [-6.66470286e-01  1.11642050e-01  4.48034038e-03  5.55256350e-05\n",
      "   1.71765306e-07]]\n",
      "\n",
      "Shape (i.e. dimensions) of SXZtest =  (5, 5)\n",
      "\n",
      "SXZtest.shape[0] =  5\n"
     ]
    }
   ],
   "source": [
    "# 7.2b Demonstrating np.linalg.eig() and np.diag()\n",
    "\n",
    "### SXZtest gets the matrix multiplication of vTest (the eigenvectos of VXZ) and \n",
    "###### the square root of lbdaTest (the eigenvalues of VXZ) extended as a diagonal matrix\n",
    "SXZtest = vTest @ np.diag(np.sqrt(lbdaTest))\n",
    "print(\"vTest @ np.diag(np.sqrt(lbdaTest) = \", '\\n', SXZtest)\n",
    "print()\n",
    "print(\"Shape (i.e. dimensions) of SXZtest = \", SXZtest.shape)\n",
    "print()\n",
    "print(\"SXZtest.shape[0] = \", SXZtest.shape[0])\n"
   ]
  },
  {
   "cell_type": "code",
   "execution_count": 15,
   "metadata": {},
   "outputs": [
    {
     "ename": "NameError",
     "evalue": "name 'N' is not defined",
     "output_type": "error",
     "traceback": [
      "\u001b[0;31m---------------------------------------------------------------------------\u001b[0m",
      "\u001b[0;31mNameError\u001b[0m                                 Traceback (most recent call last)",
      "\u001b[0;32m<ipython-input-15-b91f02be21bb>\u001b[0m in \u001b[0;36m<module>\u001b[0;34m\u001b[0m\n\u001b[1;32m      3\u001b[0m \u001b[0;31m### XZtest gets an Nx(one dimension of the square VXZ matrix = 5) matrix drawn from a normal continuous random variable\u001b[0m\u001b[0;34m\u001b[0m\u001b[0;34m\u001b[0m\u001b[0;34m\u001b[0m\u001b[0m\n\u001b[1;32m      4\u001b[0m \u001b[0;31m###### and matrix multiple by the transpose of the SXZtest matrix\u001b[0m\u001b[0;34m\u001b[0m\u001b[0;34m\u001b[0m\u001b[0;34m\u001b[0m\u001b[0m\n\u001b[0;32m----> 5\u001b[0;31m \u001b[0mXZtest\u001b[0m \u001b[0;34m=\u001b[0m \u001b[0miid\u001b[0m\u001b[0;34m.\u001b[0m\u001b[0mnorm\u001b[0m\u001b[0;34m.\u001b[0m\u001b[0mrvs\u001b[0m\u001b[0;34m(\u001b[0m\u001b[0msize\u001b[0m\u001b[0;34m=\u001b[0m\u001b[0;34m(\u001b[0m\u001b[0mN\u001b[0m\u001b[0;34m,\u001b[0m\u001b[0mVXZ\u001b[0m\u001b[0;34m.\u001b[0m\u001b[0mshape\u001b[0m\u001b[0;34m[\u001b[0m\u001b[0;36m0\u001b[0m\u001b[0;34m]\u001b[0m\u001b[0;34m)\u001b[0m\u001b[0;34m)\u001b[0m\u001b[0;34m@\u001b[0m\u001b[0mSXZtest\u001b[0m\u001b[0;34m.\u001b[0m\u001b[0mT\u001b[0m\u001b[0;34m\u001b[0m\u001b[0;34m\u001b[0m\u001b[0m\n\u001b[0m\u001b[1;32m      6\u001b[0m \u001b[0mprint\u001b[0m\u001b[0;34m(\u001b[0m\u001b[0;34m\"XZtest = \"\u001b[0m\u001b[0;34m,\u001b[0m \u001b[0;34m'\\n'\u001b[0m\u001b[0;34m,\u001b[0m \u001b[0mXZtest\u001b[0m\u001b[0;34m)\u001b[0m\u001b[0;34m\u001b[0m\u001b[0;34m\u001b[0m\u001b[0m\n\u001b[1;32m      7\u001b[0m \u001b[0mprint\u001b[0m\u001b[0;34m(\u001b[0m\u001b[0;34m\"Shape XZtest = \"\u001b[0m\u001b[0;34m,\u001b[0m \u001b[0mXZtest\u001b[0m\u001b[0;34m.\u001b[0m\u001b[0mshape\u001b[0m\u001b[0;34m)\u001b[0m\u001b[0;34m\u001b[0m\u001b[0;34m\u001b[0m\u001b[0m\n",
      "\u001b[0;31mNameError\u001b[0m: name 'N' is not defined"
     ]
    }
   ],
   "source": [
    "# 7.2c Demonstrating np.linalg.eig() and np.diag()\n",
    "\n",
    "### XZtest gets an Nx(one dimension of the square VXZ matrix = 5) matrix drawn from a normal continuous random variable\n",
    "###### and matrix multiple by the transpose of the SXZtest matrix\n",
    "XZtest = iid.norm.rvs(size=(N,VXZ.shape[0]))@SXZtest.T\n",
    "print(\"XZtest = \", '\\n', XZtest)\n",
    "print(\"Shape XZtest = \", XZtest.shape)\n",
    "print()\n",
    "\n",
    "### Xtest gets everything in the 0th column added to the gamma scalar times the u vector \n",
    "Xtest = XZtest[:,[0]] + gamma*u\n",
    "print(\"Xtest = \", '\\n', Xtest)\n",
    "print(\"Shape Xtest = \", Xtest.shape)\n",
    "print()\n",
    "\n",
    "### Ztest gets everything from the 1th column (i.e. 2nd column) to the right in XZtest\n",
    "Ztest = XZtest[:,1:]\n",
    "print(\"Ztest = \", '\\n', Ztest)\n",
    "print(\"Shape Ztest = \", Ztest.shape)\n",
    "\n",
    "# Calculate y\n",
    "y = Xtest*beta + u"
   ]
  },
  {
   "cell_type": "code",
   "execution_count": 16,
   "metadata": {},
   "outputs": [],
   "source": [
    "# 7.2 CODE ABOVE WITH COMMENTS AND PRINTING\n",
    "\n",
    "from scipy.stats import distributions as iid\n",
    "\n",
    "# Create a funtion for the data generating process (dgp)\n",
    "def dgp(N,beta,gamma,sigma_u,VXZ):\n",
    "    \"\"\"Generate a tuple of (y,X,Z).\n",
    "\n",
    "    Satisfies model:\n",
    "        y = X@beta + u\n",
    "        E Z'u = 0\n",
    "        Var(u) = sigma^2\n",
    "        Cov(X,u) = gamma*sigma_u^2\n",
    "        Var([X,Z]|u) = VXZ # note typo switching one curly bracket to square\n",
    "        u,X,Z mean zero, Gaussian\n",
    "\n",
    "    Each element of the tuple is an array of N observations.\n",
    "\n",
    "    Inputs include\n",
    "    - beta :: the coefficient of interest\n",
    "    - gamma :: linear effect of disturbance on X\n",
    "    - sigma_u :: Variance of disturbance\n",
    "    - VXZ :: Cov([X,Z|u])\n",
    "    \"\"\"\n",
    "    \n",
    "    ### u gets an Nx1 matrix drawn from a normal continuous random variable and multiple each draw by sigma_u\n",
    "    ###### Note: size = (N) would be computationally equivalent\n",
    "    u = iid.norm.rvs(size=(N,1))*sigma_u\n",
    "\n",
    "    # \"Square root\" of VXZ via eigendecomposition\n",
    "    ### lbda gets the eigenvalues of VXZ and v gets the eigenvectors of VXZ\n",
    "    lbda,v = np.linalg.eig(VXZ)\n",
    "    \n",
    "    ### SXZ gets the matrix multiplication of v (the eigenvectos of VXZ) and \n",
    "    ###### the square root of lbda (the eigenvalues of VXZ) extended as a diagonal matrix\n",
    "    SXZ = v@np.diag(np.sqrt(lbda))\n",
    "\n",
    "    # Generate normal random variates [X*,Z]\n",
    "    ### XZ gets an Nx(one dimension of the square VXZ matrix = 5) matrix drawn from a normal continuous random variable\n",
    "    ###### and matrix multiple by the transpose of the SXZ matrix\n",
    "    XZ = iid.norm.rvs(size=(N,VXZ.shape[0]))@SXZ.T\n",
    "\n",
    "    # But X is endogenous...\n",
    "    ### X gets everything in the 0th column added to the gamma scalar times the u vector \n",
    "    X = XZ[:,[0]] + gamma*u\n",
    "    \n",
    "    ### Ztest gets everything from the 1th column (i.e. 2nd column) to the right in XZ\n",
    "    Z = XZ[:,1:]\n",
    "\n",
    "    # Calculate y\n",
    "    y = X*beta + u\n",
    "\n",
    "    return y,X,Z"
   ]
  },
  {
   "cell_type": "markdown",
   "metadata": {},
   "source": [
    "Check on DGP:\n",
    "\n"
   ]
  },
  {
   "cell_type": "code",
   "execution_count": 17,
   "metadata": {},
   "outputs": [
    {
     "name": "stdout",
     "output_type": "stream",
     "text": [
      "[[1.36769481 1.05560708 0.90973918 0.81856253 0.75370821]\n",
      " [1.05560708 0.83046855 0.72356461 0.65585413 0.60715898]\n",
      " [0.90973918 0.72356461 0.63429023 0.57728783 0.53602129]\n",
      " [0.81856253 0.65585413 0.57728783 0.52683793 0.49014636]\n",
      " [0.75370821 0.60715898 0.53602129 0.49014636 0.45666667]]\n",
      "[[ 9.30596980e-01 -3.69214919e-02 -2.91508373e-02 -2.45037761e-02\n",
      "  -2.13370013e-02]\n",
      " [-3.69214919e-02  6.30382305e-04  1.71258912e-03  2.29652895e-03\n",
      "   2.65126890e-03]\n",
      " [-2.91508373e-02  1.71258912e-03  2.47276370e-03  2.88063320e-03\n",
      "   3.12430632e-03]\n",
      " [-2.45037761e-02  2.29652895e-03  2.88063320e-03  3.19185929e-03\n",
      "   3.37439331e-03]\n",
      " [-2.13370013e-02  2.65126890e-03  3.12430632e-03  3.37439331e-03\n",
      "   3.51819091e-03]]\n"
     ]
    }
   ],
   "source": [
    "# 7.3 ORIGINAL CODE\n",
    "\n",
    "N = 1000\n",
    "\n",
    "data = dgp(N,*truth)\n",
    "\n",
    "y,X,Z = data # Unpack tuple to check on things\n",
    "\n",
    "# Check that we've computed things correctly:\n",
    "print(VXZ)\n",
    "\n",
    "print(np.cov(np.c_[X,Z].T) - VXZ)"
   ]
  },
  {
   "cell_type": "markdown",
   "metadata": {},
   "source": [
    "<font color='red'> *notes*: </font>\n",
    "- `*`-operator: unpacks argument lists "
   ]
  },
  {
   "cell_type": "code",
   "execution_count": 18,
   "metadata": {},
   "outputs": [
    {
     "name": "stdout",
     "output_type": "stream",
     "text": [
      "[3 4 5]\n"
     ]
    }
   ],
   "source": [
    "# 7.3a demonstrating *-operator\n",
    "\n",
    "# Recall we can define a range as follows\n",
    "cRange = np.arange(3, 6)\n",
    "print(cRange)"
   ]
  },
  {
   "cell_type": "code",
   "execution_count": 19,
   "metadata": {},
   "outputs": [
    {
     "name": "stdout",
     "output_type": "stream",
     "text": [
      "[3 4 5]\n"
     ]
    }
   ],
   "source": [
    "# 7.3b demonstrating *-operator\n",
    "\n",
    "# We can accomplish the same by first assigning a tuple that has our parameters\n",
    "rangeFinderTuple = (3, 6)\n",
    "\n",
    "# Then we can use the *-operator to unpack the tuple into our np.arange() function\n",
    "dRange = np.arange(*rangeFinderTuple)\n",
    "print(dRange)\n"
   ]
  },
  {
   "cell_type": "code",
   "execution_count": 20,
   "metadata": {},
   "outputs": [
    {
     "name": "stdout",
     "output_type": "stream",
     "text": [
      "Shape of y =  (1000, 1)\n",
      "Shape of X =  (1000, 1)\n",
      "Shape of Z =  (1000, 4)\n",
      "\n",
      "VXZ =  \n",
      " [[1.36769481 1.05560708 0.90973918 0.81856253 0.75370821]\n",
      " [1.05560708 0.83046855 0.72356461 0.65585413 0.60715898]\n",
      " [0.90973918 0.72356461 0.63429023 0.57728783 0.53602129]\n",
      " [0.81856253 0.65585413 0.57728783 0.52683793 0.49014636]\n",
      " [0.75370821 0.60715898 0.53602129 0.49014636 0.45666667]]\n",
      "\n",
      "Cov(XZ.T) =  \n",
      " [[2.32406556 0.99177098 0.85871235 0.77507223 0.71529896]\n",
      " [0.99177098 0.77678725 0.67837487 0.6158255  0.57071589]\n",
      " [0.85871235 0.67837487 0.59605266 0.54329681 0.50499291]\n",
      " [0.77507223 0.6158255  0.54329681 0.49654817 0.46244668]\n",
      " [0.71529896 0.57071589 0.50499291 0.46244668 0.43130181]]\n",
      "\n",
      "Cov(XZ.T) - VXZ =  \n",
      " [[ 0.95637075 -0.06383609 -0.05102683 -0.0434903  -0.03840925]\n",
      " [-0.06383609 -0.0536813  -0.04518974 -0.04002862 -0.03644309]\n",
      " [-0.05102683 -0.04518974 -0.03823757 -0.03399102 -0.03102837]\n",
      " [-0.0434903  -0.04002862 -0.03399102 -0.03028976 -0.02769967]\n",
      " [-0.03840925 -0.03644309 -0.03102837 -0.02769967 -0.02536485]]\n"
     ]
    }
   ],
   "source": [
    "# 7.3 CODE ABOVE WITH COMMENTS AND PRINTING\n",
    "\n",
    "N = 1000\n",
    "\n",
    "### data gets data generated from dgp function with N draws and \n",
    "###### the *-unpacked elements of the tuple truth = (beta,gamma,sigma_u,VXZ)\n",
    "data = dgp(N,*truth)\n",
    "\n",
    "### assign each element of the output in data to its corresponding letter\n",
    "y,X,Z = data # Unpack tuple to check on things\n",
    "# print(\"y = \", '\\n', y)\n",
    "print(\"Shape of y = \", y.shape)\n",
    "# print(\"X = \", '\\n', X)\n",
    "print(\"Shape of X = \",  X.shape)\n",
    "# print(\"Z = \", '\\n', Z)\n",
    "print(\"Shape of Z = \", Z.shape)\n",
    "print()\n",
    "\n",
    "# Check that we've computed things correctly:\n",
    "print(\"VXZ = \", '\\n', VXZ)\n",
    "print()\n",
    "\n",
    "### Find the covariance matrix for the transpose of the matrix formed from X in the first column followed by Z for the rest\n",
    "print(\"Cov(XZ.T) = \", '\\n', np.cov(np.c_[X,Z].T))\n",
    "print()\n",
    "\n",
    "### Subtract VXZ from that covariance matrix\n",
    "print(\"Cov(XZ.T) - VXZ = \", '\\n', np.cov(np.c_[X,Z].T) - VXZ) # which should converge to 1 followed by zeros in all directions"
   ]
  },
  {
   "cell_type": "markdown",
   "metadata": {},
   "source": [
    "### Estimation\n",
    "\n"
   ]
  },
  {
   "cell_type": "markdown",
   "metadata": {},
   "source": [
    "Now that we have a data-generating process we proceed with under\n",
    "   the conceit that we can observe samples generated by this process,\n",
    "   but otherwise temporarily &ldquo;forget&rdquo; the properties of the DGP, and use the\n",
    "   generated data to try to reconstruct aspects of the DGP.\n",
    "\n",
    "In our example, we consider using the optimally weighted linear IV\n",
    "estimator, and define a function which computes observation-level\n",
    "deviations from expectations for this model. To testimate a different\n",
    "model this is the function we&rsquo;d want to re-define.\n",
    "\n"
   ]
  },
  {
   "cell_type": "code",
   "execution_count": 21,
   "metadata": {},
   "outputs": [],
   "source": [
    "# 7.4 ORIGINAL CODE\n",
    "\n",
    "def gj(b,y,X,Z):\n",
    "    \"\"\"Observations of g_j(b).\n",
    "\n",
    "    This defines the deviations from the predictions of our model; i.e.,\n",
    "    e_j = Z_ju_j, where EZ_ju_j=0.\n",
    "\n",
    "    Can replace this function to testimate a different model.\n",
    "    \"\"\"\n",
    "    return Z*(y - X*b) "
   ]
  },
  {
   "cell_type": "markdown",
   "metadata": {},
   "source": [
    "#### Construct sample moments\n",
    "\n"
   ]
  },
  {
   "cell_type": "markdown",
   "metadata": {},
   "source": [
    "Begin by defining a function to construct the sample moments given\n",
    "    the data and a parameter estimate $b$:\n",
    "\n"
   ]
  },
  {
   "cell_type": "code",
   "execution_count": 22,
   "metadata": {},
   "outputs": [],
   "source": [
    "# 7.5 ORIGINAL CODE\n",
    "\n",
    "def gN(b,data):\n",
    "    \"\"\"Averages of g_j(b).\n",
    "\n",
    "    This is generic for data, to be passed to gj.\n",
    "    \"\"\"\n",
    "    e = gj(b,*data)\n",
    "\n",
    "    # Check to see more obs. than moments.\n",
    "    assert e.shape[0] > e.shape[1]\n",
    "    \n",
    "    return e.mean(axis=0)"
   ]
  },
  {
   "cell_type": "markdown",
   "metadata": {},
   "source": [
    "<font color='red'> *notes*: </font>\n",
    "- `assert`: debugging tool, if True then code progresses, if False, code stops and throws an error.  Learn more about [Python Assert Statement](https://www.programiz.com/python-programming/assert-statement)"
   ]
  },
  {
   "cell_type": "markdown",
   "metadata": {},
   "source": [
    "#### Define estimator of Egg'\n",
    "\n"
   ]
  },
  {
   "cell_type": "markdown",
   "metadata": {},
   "source": [
    "Next we define a function to compute covariance matrix of moments.\n",
    "Re-centering can be important in finite samples, even if irrelevant in\n",
    "the limit.  Since we have $\\mbox{E}g_j(\\beta)=0$ under the null we may\n",
    "as well use this information when constructing our weighting matrix.\n",
    "\n"
   ]
  },
  {
   "cell_type": "code",
   "execution_count": 23,
   "metadata": {},
   "outputs": [],
   "source": [
    "# 7.6 ORIGINAL CODE\n",
    "\n",
    "def Omegahat(b,data):\n",
    "    e = gj(b,*data)\n",
    "\n",
    "    # Recenter! We have Eu=0 under null.\n",
    "    # Important to use this information.\n",
    "    e = e - e.mean(axis=0) \n",
    "    \n",
    "    return e.T@e/e.shape[0]"
   ]
  },
  {
   "cell_type": "markdown",
   "metadata": {},
   "source": [
    "Next, check construction of criterion given our data.  We want\n",
    "something that looks nice and quadratic, at least in the neighborhood\n",
    "of $\\beta$.\n",
    "\n",
    "Check construction of weighting matrix for our data at true parameter $\\beta$.\n",
    "\n"
   ]
  },
  {
   "cell_type": "code",
   "execution_count": 24,
   "metadata": {},
   "outputs": [
    {
     "name": "stdout",
     "output_type": "stream",
     "text": [
      "[[0.8186926  0.71884936 0.65480374 0.60828299]\n",
      " [0.71884936 0.63499563 0.58072823 0.54102889]\n",
      " [0.65480374 0.58072823 0.53249222 0.4970315 ]\n",
      " [0.60828299 0.54102889 0.4970315  0.46456814]]\n"
     ]
    }
   ],
   "source": [
    "# 7.7 ORIGINAL CODE\n",
    "\n",
    "Winv = Omegahat(beta,data) \n",
    "print(Winv)"
   ]
  },
  {
   "cell_type": "markdown",
   "metadata": {},
   "source": [
    "Define the criterion function given a weighting matrix $W$:\n",
    "\n"
   ]
  },
  {
   "cell_type": "code",
   "execution_count": 25,
   "metadata": {},
   "outputs": [],
   "source": [
    "# 7.8 ORIGINAL CODE\n",
    "\n",
    "def J(b,W,data):\n",
    "\n",
    "    m = gN(b,data) # Sample moments @ b ### gN finds Averages of g_j(b)\n",
    "    N = data[0].shape[0] ### number of observations of the 0th element of data = (N, *truth)\n",
    "    \n",
    "    return N*m.T@W@m # Scale by sample size"
   ]
  },
  {
   "cell_type": "markdown",
   "metadata": {},
   "source": [
    "Next, check construction of criterion given our data.  We want\n",
    "something that looks nice and quadratic, at least in the neighborhood\n",
    "of $\\beta$.  Note that comparing the criterion to the critical values\n",
    "of the $\\chi^2$ statistic gives us an alternative way to construct\n",
    "confidence intervals.\n",
    "\n"
   ]
  },
  {
   "cell_type": "code",
   "execution_count": 26,
   "metadata": {},
   "outputs": [
    {
     "data": {
      "image/png": "[encoded data removed]",
      "text/plain": [
       "<Figure size 432x288 with 1 Axes>"
      ]
     },
     "metadata": {
      "needs_background": "light"
     },
     "output_type": "display_data"
    }
   ],
   "source": [
    "# 7.9 ORIGINAL CODE\n",
    "\n",
    "from matplotlib import pyplot as plt\n",
    "%matplotlib inline\n",
    "\n",
    "# Limiting distribution of criterion (under null)\n",
    "limiting_J = iid.chi2(ell-1)\n",
    "\n",
    "# Limiting SE of b\n",
    "sigma_0 = np.sqrt(inv(Q.T@inv(Winv)@Q)/N)[0][0] \n",
    "\n",
    "# Choose 8 sigma_0 neighborhood of \"truth\"\n",
    "B = np.linspace(beta-4*sigma_0,beta+4*sigma_0,100)\n",
    "W = inv(Winv)\n",
    "\n",
    "_ = plt.plot(B,[J(b,W,data) for b in B.tolist()])\n",
    "_ = plt.axhline(limiting_J.isf(0.05),color='r')"
   ]
  },
  {
   "cell_type": "code",
   "execution_count": 27,
   "metadata": {},
   "outputs": [
    {
     "name": "stdout",
     "output_type": "stream",
     "text": [
      "[[0.02627805]]\n",
      "[0.02627805]\n",
      "sigma_0 =  0.026278052242758212\n"
     ]
    },
    {
     "data": {
      "image/png": "[encoded data removed]",
      "text/plain": [
       "<Figure size 432x288 with 1 Axes>"
      ]
     },
     "metadata": {
      "needs_background": "light"
     },
     "output_type": "display_data"
    }
   ],
   "source": [
    "# 7.9a CODE ABOVE WITH COMMENTS AND PRINTING\n",
    "\n",
    "from matplotlib import pyplot as plt\n",
    "%matplotlib inline\n",
    "\n",
    "# Limiting distribution of criterion (under null)\n",
    "### Generate a chi-squared continuous random variable from ell - 1 = 3\n",
    "limiting_J = iid.chi2(ell-1)\n",
    "\n",
    "# Limiting SE of b\n",
    "sigma_0 = np.sqrt(inv(Q.T@inv(Winv)@Q)/N)[0][0] ### these [0][0] indexes are for calling the direct ouput\n",
    "print(np.sqrt(inv(Q.T@inv(Winv)@Q)/N))\n",
    "print(np.sqrt(inv(Q.T@inv(Winv)@Q)/N)[0])\n",
    "print(\"sigma_0 = \", sigma_0)\n",
    "\n",
    "# Choose 8 sigma_0 neighborhood of \"truth\"\n",
    "### B gets a list of 100 evenly spaced numbers from beta-4*sigma_0 to beta+4*sigma_0.\n",
    "B = np.linspace(beta-4*sigma_0,beta+4*sigma_0,100)\n",
    "\n",
    "### W gets the inverse of the Winv matrix\n",
    "W = inv(Winv)\n",
    "\n",
    "### plot the evaluation of each b in B at J(b,W,data)\n",
    "_ = plt.plot(B,[J(b,W,data) for b in B.tolist()])\n"
   ]
  },
  {
   "cell_type": "code",
   "execution_count": 28,
   "metadata": {},
   "outputs": [
    {
     "name": "stdout",
     "output_type": "stream",
     "text": [
      "7.814727903251178\n"
     ]
    },
    {
     "data": {
      "image/png": "[encoded data removed]",
      "text/plain": [
       "<Figure size 432x288 with 1 Axes>"
      ]
     },
     "metadata": {
      "needs_background": "light"
     },
     "output_type": "display_data"
    }
   ],
   "source": [
    "# 7.9b CODE ABOVE WITH COMMENTS AND PRINTING\n",
    "\n",
    "from matplotlib import pyplot as plt\n",
    "%matplotlib inline\n",
    "\n",
    "# Limiting distribution of criterion (under null)\n",
    "### Generate a chi-squared continuous random variable from ell - 1 = 3\n",
    "limiting_J = iid.chi2(ell-1)\n",
    "\n",
    "# Limiting SE of b\n",
    "sigma_0 = np.sqrt(inv(Q.T@inv(Winv)@Q)/N)[0][0] \n",
    "\n",
    "# Choose 8 sigma_0 neighborhood of \"truth\"\n",
    "B = np.linspace(beta-4*sigma_0,beta+4*sigma_0,100)\n",
    "W = inv(Winv)\n",
    "\n",
    "_ = plt.plot(B,[J(b,W,data) for b in B.tolist()])\n",
    "\n",
    "### calculate the inverse survival function of limiting_J at .05\n",
    "print(limiting_J.isf(0.05))\n",
    "\n",
    "### plot a horizontal line at that inverse survival function solution \n",
    "_ = plt.axhline(limiting_J.isf(0.05),color='r')"
   ]
  },
  {
   "cell_type": "markdown",
   "metadata": {},
   "source": [
    "#### Two Step Estimator\n",
    "\n"
   ]
  },
  {
   "cell_type": "markdown",
   "metadata": {},
   "source": [
    "We next implement the two-step GMM estimator\n",
    "\n"
   ]
  },
  {
   "cell_type": "code",
   "execution_count": 29,
   "metadata": {},
   "outputs": [],
   "source": [
    "# 7.10 ORIGINAL CODE\n",
    "\n",
    "from scipy.optimize import minimize_scalar\n",
    "\n",
    "def two_step_gmm(data):\n",
    "\n",
    "    # First step uses identity weighting matrix\n",
    "    W1 = np.eye(gj(1,*data).shape[1])\n",
    "\n",
    "    b1 = minimize_scalar(lambda b: J(b,W1,data)).x \n",
    "\n",
    "    # Construct 2nd step weighting matrix using\n",
    "    # first step estimate of beta\n",
    "    W2 = inv(Omegahat(b1,data))\n",
    "\n",
    "    return minimize_scalar(lambda b: J(b,W2,data))"
   ]
  },
  {
   "cell_type": "markdown",
   "metadata": {},
   "source": [
    "<font color='red'> *notes*: </font>\n",
    "- `np.eye`: Return a 2-D array with ones on the diagonal and zeros elsewhere.\n",
    "- `minimize_scalar`:  Minimization of scalar function of one variable.  Returns a ``OptimizeResult`` object including attributes: \n",
    "    - ``x`` the solution array, \n",
    "    - ``success`` a Boolean flag indicating if the optimizer exited successfully and\n",
    "    - ``message`` which describes the cause of the termination.\n"
   ]
  },
  {
   "cell_type": "code",
   "execution_count": 30,
   "metadata": {},
   "outputs": [
    {
     "name": "stdout",
     "output_type": "stream",
     "text": [
      "4\n",
      "[[1. 0. 0. 0.]\n",
      " [0. 1. 0. 0.]\n",
      " [0. 0. 1. 0.]\n",
      " [0. 0. 0. 1.]]\n"
     ]
    }
   ],
   "source": [
    "# 7.10 CODE ABOVE WITH COMMENTS AND PRINTING\n",
    "\n",
    "print(gj(1,*data).shape[1])\n",
    "print(np.eye(gj(1,*data).shape[1]))\n",
    "\n",
    "from scipy.optimize import minimize_scalar\n",
    "\n",
    "def two_step_gmm(data):\n",
    "\n",
    "    # First step uses identity weighting matrix\n",
    "    W1 = np.eye(gj(1,*data).shape[1])\n",
    "\n",
    "    ### b1 gets the solution array (x) of the minimization of the scalar from the lambda function\n",
    "    ####### that sends b along with W1 and data into J\n",
    "    b1 = minimize_scalar(lambda b: J(b,W1,data)).x \n",
    "\n",
    "    # Construct 2nd step weighting matrix using\n",
    "    # first step estimate of beta\n",
    "    W2 = inv(Omegahat(b1,data))\n",
    "\n",
    "    return minimize_scalar(lambda b: J(b,W2,data))"
   ]
  },
  {
   "cell_type": "markdown",
   "metadata": {},
   "source": [
    "Now let&rsquo;s try it with an actual sample, just to see that things work:\n",
    "\n"
   ]
  },
  {
   "cell_type": "code",
   "execution_count": 31,
   "metadata": {},
   "outputs": [
    {
     "name": "stdout",
     "output_type": "stream",
     "text": [
      "b=1.003458, J=1.049624, Critical J=7.814728\n"
     ]
    }
   ],
   "source": [
    "# 7.11 ORIGINAL CODE\n",
    "\n",
    "soltn = two_step_gmm(data)\n",
    "\n",
    "print(\"b=%f, J=%f, Critical J=%f\" % (soltn.x,soltn.fun,limiting_J.isf(0.05)))"
   ]
  },
  {
   "cell_type": "markdown",
   "metadata": {},
   "source": [
    "### Monte Carlo Experiment\n",
    "\n"
   ]
  },
  {
   "cell_type": "markdown",
   "metadata": {},
   "source": [
    "Now our experiment begins.  We set our frequentist hats firmly on our\n",
    "heads, and draw repeated samples of data, each generating a\n",
    "corresponding estimate of beta.  Then the empirical distribution of\n",
    "these samples tells us about the *finite* sample performance of our estimator.\n",
    "\n",
    "We&rsquo;ll generate a sample of estimates of $b$ by drawing repeated\n",
    "samples of size $N$:\n",
    "\n"
   ]
  },
  {
   "cell_type": "code",
   "execution_count": 33,
   "metadata": {},
   "outputs": [
    {
     "data": {
      "image/png": "[encoded data removed]",
      "text/plain": [
       "<Figure size 432x288 with 1 Axes>"
      ]
     },
     "metadata": {
      "needs_background": "light"
     },
     "output_type": "display_data"
    }
   ],
   "source": [
    "# 7.12 ORIGINAL CODE\n",
    "\n",
    "N = 1000 # Sample size\n",
    "\n",
    "D = 1000 # Monte Carlo draws\n",
    "\n",
    "b_draws = []\n",
    "J_draws = []\n",
    "for d in range(D):\n",
    "    soltn = two_step_gmm(dgp(N,*truth))\n",
    "    b_draws.append(soltn.x)\n",
    "    J_draws.append(soltn.fun)\n",
    "\n",
    "_ = plt.hist(b_draws,bins=int(np.ceil(np.sqrt(N))))\n",
    "_ = plt.axvline(beta,color='r')"
   ]
  },
  {
   "cell_type": "code",
   "execution_count": 44,
   "metadata": {},
   "outputs": [
    {
     "name": "stdout",
     "output_type": "stream",
     "text": [
      "bins =  32\n",
      "beta =  1\n"
     ]
    },
    {
     "data": {
      "image/png": "[encoded data removed]",
      "text/plain": [
       "<Figure size 432x288 with 1 Axes>"
      ]
     },
     "metadata": {
      "needs_background": "light"
     },
     "output_type": "display_data"
    }
   ],
   "source": [
    "# 7.12 CODE ABOVE WITH COMMENTS AND PRINTING\n",
    "\n",
    "N = 1000 # Sample size\n",
    "\n",
    "D = 1000 # Monte Carlo draws\n",
    "\n",
    "### create empty lists to fill with draws\n",
    "b_draws = []\n",
    "J_draws = []\n",
    "\n",
    "### for loop of d in D\n",
    "for d in range(D):\n",
    "    ### soltn gets the minimize_scalar(lambda b: J(b,W2,data)) from two_step_gmm generated from\n",
    "    ####### N draws over the the elements of truth = (beta,gamma,sigma_u,VXZ) passed through the dgp function \n",
    "    soltn = two_step_gmm(dgp(N,*truth))\n",
    "    \n",
    "    ### fill the b_draws with each resulting b\n",
    "    b_draws.append(soltn.x)\n",
    "    ### fill the J_draws with the corresponding J\n",
    "    J_draws.append(soltn.fun)\n",
    "\n",
    "### histogram of b_draws with bins defined by the integer of the ceiling of the squareroot of N\n",
    "_ = plt.hist(b_draws,bins=int(np.ceil(np.sqrt(N))))\n",
    "print(\"bins = \", int(np.ceil(np.sqrt(N))))\n",
    "\n",
    "### Add a vertical line at beta as defined above\n",
    "_ = plt.axvline(beta,color='r')\n",
    "print(\"beta = \", beta)\n"
   ]
  },
  {
   "cell_type": "markdown",
   "metadata": {},
   "source": [
    "### Distribution of Monte Carlo draws vs. Asymptotic distribution\n",
    "\n"
   ]
  },
  {
   "cell_type": "markdown",
   "metadata": {},
   "source": [
    "Compare Monte Carlo standard errors with asymptotic approximation:\n",
    "\n"
   ]
  },
  {
   "cell_type": "code",
   "execution_count": 45,
   "metadata": {},
   "outputs": [
    {
     "name": "stdout",
     "output_type": "stream",
     "text": [
      "Bootstrapped standard errors: 0.0264045\n",
      "Asymptotic approximation: 0.0262781\n",
      "Critical value for J statistic: 7.81473 (5%)\n"
     ]
    }
   ],
   "source": [
    "# 7.13 ORIGINAL CODE\n",
    "\n",
    "# Limiting distribution of estimator\n",
    "\n",
    "limiting_b = iid.norm(scale=sigma_0)\n",
    "\n",
    "print(\"Bootstrapped standard errors: %g\" % np.std(b_draws))\n",
    "print(\"Asymptotic approximation: %g\" % sigma_0)\n",
    "print(\"Critical value for J statistic: %g (5%%)\" % limiting_J.isf(.05))"
   ]
  },
  {
   "cell_type": "markdown",
   "metadata": {},
   "source": [
    "Now construct probability plot (bootstrapped $b$s vs. quantiles of\n",
    "limiting distribution):\n",
    "\n"
   ]
  },
  {
   "cell_type": "code",
   "execution_count": 47,
   "metadata": {},
   "outputs": [
    {
     "data": {
      "image/png": "[encoded data removed]",
      "text/plain": [
       "<Figure size 432x288 with 1 Axes>"
      ]
     },
     "metadata": {
      "needs_background": "light"
     },
     "output_type": "display_data"
    }
   ],
   "source": [
    "# 7.14 ORIGINAL CODE\n",
    "\n",
    "from scipy.stats import probplot\n",
    "\n",
    "_ = probplot(b_draws,dist=limiting_b,fit=False,plot=plt)"
   ]
  },
  {
   "cell_type": "markdown",
   "metadata": {},
   "source": [
    "<font color='red'> *notes*: </font>\n",
    "- `probplot`: \"Generates a probability plot of sample data against the quantiles of a specified theoretical distribution (the normal distribution by default) . . . [and] optionally calculates a best-fit line for the data and plots the results using Matplotlib or a given plot function."
   ]
  },
  {
   "cell_type": "code",
   "execution_count": 56,
   "metadata": {},
   "outputs": [
    {
     "data": {
      "image/png": "[encoded data removed]",
      "text/plain": [
       "<Figure size 432x288 with 1 Axes>"
      ]
     },
     "metadata": {
      "needs_background": "light"
     },
     "output_type": "display_data"
    }
   ],
   "source": [
    "# 7.14 CODE ABOVE WITH COMMENTS AND PRINTING\n",
    "\n",
    "from scipy.stats import probplot\n",
    "\n",
    "### plot probability of b_draws against limiting_b (iid.norm(scale=sigma_0))\n",
    "###### fit = False means it does not fit a least-squares regression (best-fit) line to the sample data\n",
    "###### plot = plt gives us the plot\n",
    "_ = probplot(b_draws,dist=limiting_b,fit=False,plot=plt)"
   ]
  },
  {
   "cell_type": "markdown",
   "metadata": {},
   "source": [
    "Next, consider the a $p$-$p$ plot for $J$ statistics (recall these\n",
    "should be distributed $\\chi^2_{\\ell-1}$).\n",
    "\n"
   ]
  },
  {
   "cell_type": "code",
   "execution_count": 57,
   "metadata": {},
   "outputs": [
    {
     "data": {
      "image/png": "[encoded data removed]",
      "text/plain": [
       "<Figure size 432x288 with 1 Axes>"
      ]
     },
     "metadata": {
      "needs_background": "light"
     },
     "output_type": "display_data"
    }
   ],
   "source": [
    "# 7.15 ORIGINAL CODE\n",
    "\n",
    "def ppplot(data,dist):\n",
    "    data = np.array(data)\n",
    "\n",
    "    # Theoretical CDF, evaluated at points of data\n",
    "    P = [dist.cdf(x) for x in data.tolist()]\n",
    "\n",
    "    # Empirical CDF, evaluated at points of data\n",
    "    Phat = [(data<x).mean() for x in data.tolist()]\n",
    "\n",
    "    fig, ax = plt.subplots()\n",
    "    \n",
    "    ax.scatter(P,Phat)\n",
    "    ax.plot([0,1],[0,1],color='r') # Plot 45\n",
    "    ax.set_xlabel('Theoretical Distribution')\n",
    "    ax.set_ylabel('Empirical Distribution')\n",
    "    ax.set_title('p-p Plot')\n",
    "\n",
    "    return ax\n",
    "    \n",
    "_ = ppplot(J_draws, limiting_J)"
   ]
  },
  {
   "cell_type": "code",
   "execution_count": 63,
   "metadata": {},
   "outputs": [
    {
     "data": {
      "image/png": "[encoded data removed]",
      "text/plain": [
       "<Figure size 432x288 with 1 Axes>"
      ]
     },
     "metadata": {
      "needs_background": "light"
     },
     "output_type": "display_data"
    }
   ],
   "source": [
    "# 7.15 CODE ABOVE WITH COMMENTS AND PRINTING\n",
    "\n",
    "### define a function ppplot that takes in data and a distribution\n",
    "def ppplot(data,dist):\n",
    "    \n",
    "    ### make sure the data is an array\n",
    "    data = np.array(data)\n",
    "\n",
    "    # Theoretical CDF, evaluated at points of data\n",
    "    P = [dist.cdf(x) for x in data.tolist()]\n",
    "\n",
    "    # Empirical CDF, evaluated at points of data\n",
    "    Phat = [(data<x).mean() for x in data.tolist()]\n",
    "\n",
    "    # define the dimensions and Axes\n",
    "    fig, ax = plt.subplots()\n",
    "    \n",
    "    # first plot the scatter of P and Phat\n",
    "    ax.scatter(P,Phat)\n",
    "    \n",
    "    # Add a red line from x = 0, y = 0 to x = 1, y = 1\n",
    "    ax.plot([0,1],[0,1],color='r') # Plot 45\n",
    "    \n",
    "    # Label x-axis\n",
    "    ax.set_xlabel('Theoretical Distribution')\n",
    "    \n",
    "    # Label y-axis\n",
    "    ax.set_ylabel('Empirical Distribution')\n",
    "    \n",
    "    # Set the title\n",
    "    ax.set_title('p-p Plot')\n",
    "\n",
    "    # return the plot\n",
    "    return ax\n",
    "    \n",
    "    \n",
    "# run ppplot on data = J_draws and distribution = limiting_J\n",
    "_ = ppplot(J_draws, limiting_J)"
   ]
  },
  {
   "cell_type": "code",
   "execution_count": 62,
   "metadata": {},
   "outputs": [],
   "source": [
    "plt.plot?"
   ]
  },
  {
   "cell_type": "markdown",
   "metadata": {},
   "source": [
    "## 8. [gmm_logit](https://datahub.berkeley.edu/user/benjaminkrause/notebooks/ARE212_Materials/gmm_logit.ipynb)"
   ]
  },
  {
   "cell_type": "markdown",
   "metadata": {},
   "source": [
    "or see [gmm_logit](https://github.com/ligonteaching/ARE212_Materials/blob/master/gmm_logit.ipynb)"
   ]
  },
  {
   "cell_type": "markdown",
   "metadata": {},
   "source": [
    "## GMM Estimation of Logit Model\n",
    "\n"
   ]
  },
  {
   "cell_type": "markdown",
   "metadata": {},
   "source": [
    "### Introduction\n",
    "\n"
   ]
  },
  {
   "cell_type": "markdown",
   "metadata": {},
   "source": [
    "Consider a &ldquo;logit&rdquo; regression; score function from MLE is:\n",
    "$$\n",
    "     \\frac{1}{N}\\sum_j X_j\\left(y_j - \\frac{e^{X_j\\beta}}{1+e^{X_j\\beta}}\\right) = 0.\n",
    "  $$\n",
    "Let $u_j = y_j - \\frac{e^{X_j\\beta}}{1+e^{X_j\\beta}}$; if we have some $Z$ such that\n",
    "$\\mbox{E}(u|Z) = 0$ then we can construct further moment conditions\n",
    "$$\n",
    "     \\frac{1}{N}\\sum_j Z_j\\left(y_j - \\frac{e^{X_j\\beta}}{1+e^{X_j\\beta}}\\right) = 0.\n",
    "  $$\n",
    "\n"
   ]
  },
  {
   "cell_type": "markdown",
   "metadata": {},
   "source": [
    "### GMM Estimator\n",
    "\n"
   ]
  },
  {
   "cell_type": "code",
   "execution_count": 76,
   "metadata": {},
   "outputs": [],
   "source": [
    "# 8.1 ORIGINAL CODE\n",
    "\n",
    "import numpy as np\n",
    "\n",
    "# Some different options for moments...\n",
    "\n",
    "def mle(b,y,X,Z):\n",
    "    \"\"\"Observations of score for MLE estimator.\n",
    "\n",
    "    Moment condition is E(y_j - p(x_jb))x_j = 0,\n",
    "    where p(xb) = e^{xb}/(1+e^{xb})\n",
    "    \"\"\"\n",
    "    p = np.exp(X*b)  # This is actually the odds\n",
    "    p = p/(1+p)      # This is probability y=1\n",
    "\n",
    "    return X*(y - p)\n",
    "\n",
    "def nonlinear_iv(b,y,X,Z):\n",
    "    \"\"\"Observations for restriction that Z\n",
    "    orthogonal to score.\n",
    "\n",
    "    Moment condition is E(Z_jy_j - Z_jexp(x_jb)) = 0\n",
    "    \"\"\"\n",
    "    p = np.exp(X*b)  # This is actually the odds\n",
    "    p = p/(1+p)      # This is probability y=1\n",
    "\n",
    "    return Z*(y - p)"
   ]
  },
  {
   "cell_type": "markdown",
   "metadata": {},
   "source": [
    "### Data Generating Process\n",
    "\n"
   ]
  },
  {
   "cell_type": "code",
   "execution_count": 77,
   "metadata": {},
   "outputs": [],
   "source": [
    "# 8.2 ORIGINAL CODE\n",
    "\n",
    "from scipy.stats import distributions as iid\n",
    "\n",
    "def dgp(N,beta,VXZ,gamma=1):\n",
    "    \"\"\"Generate a tuple of (y,X,Z).\n",
    "\n",
    "    Satisfies model:\n",
    "        Pr(y=1|X) = f(X@beta,gamma)\n",
    "        u = y - f(X@beta,gamma)\n",
    "        E(u|Z) = 0\n",
    "        f(x,gamma) = (exp(x)/(1+exp(x)))**gamma\n",
    "        Var([X,Z}) = VXZ\n",
    "        X,Z mean zero, Gaussian\n",
    "\n",
    "    Each element of the tuple is an array of N observations.\n",
    "    When gamma=1 this reduces to the logit model\n",
    "\n",
    "    Inputs include\n",
    "    - beta :: Governs effect of X on probability y=1\n",
    "    - gamma :: Governs curvature of function\n",
    "    - VXZ :: Var([X,Z])\n",
    "    \"\"\"\n",
    "    \n",
    "    # \"Square root\" of VXZ via eigendecomposition\n",
    "    lbda,v = np.linalg.eig(VXZ)\n",
    "    SXZ = v@np.diag(np.sqrt(lbda))\n",
    "\n",
    "    # Generate normal random variates [X*,Z]\n",
    "    XZ = iid.norm.rvs(size=(N,VXZ.shape[0]))@SXZ.T\n",
    "\n",
    "    X = XZ[:,[0]] \n",
    "    Z = XZ[:,1:]\n",
    "\n",
    "    # Calculate y\n",
    "    pi = np.exp(X*beta)\n",
    "    pi = (pi/(1+pi))**gamma\n",
    "\n",
    "    y = iid.bernoulli(pi).rvs(size=(N,1)) ### \n",
    "\n",
    "    return y,X,Z"
   ]
  },
  {
   "cell_type": "markdown",
   "metadata": {},
   "source": [
    "<font color='red'> *notes*: </font>\n",
    "- `iid.bernoulli`: A Bernoulli discrete random variable. The probability mass function for `bernoulli` is: <br> $f(k) = \\begin{cases}1-p  &\\text{if } k = 0\\\\\n",
    "                       p    &\\text{if } k = 1\\end{cases}$ for $k$ in $\\{0, 1\\}$.  <br>`bernoulli` takes $p$ as shape parameter.\n"
   ]
  },
  {
   "cell_type": "markdown",
   "metadata": {},
   "source": [
    "### The Truth (Mark I)\n",
    "\n"
   ]
  },
  {
   "cell_type": "markdown",
   "metadata": {},
   "source": [
    "In this version of the truth the form of the distribution of $y$ is\n",
    "known up to the parameter $\\beta$; MLE takes advantage of this.\n",
    "\n",
    "Choose some parameters to establish the &ldquo;truth&rdquo;:\n",
    "\n"
   ]
  },
  {
   "cell_type": "code",
   "execution_count": 78,
   "metadata": {},
   "outputs": [],
   "source": [
    "# 8.3 ORIGINAL CODE\n",
    "\n",
    "import numpy as np\n",
    "from numpy.linalg import inv\n",
    "\n",
    "## Play with us!\n",
    "beta = 2     # \"Coefficient of interest\"\n",
    "\n",
    "## Play with us!\n",
    "\n",
    "# Let Z have order ell, and X order 1, with Var([X,Z]|u)=VXZ\n",
    "\n",
    "ell = 1 # Play with me too!\n",
    "\n",
    "# Arbitrary (but deterministic) choice for VXZ\n",
    "A = np.sqrt(1/np.arange(1,(ell+1)**2+1)).reshape((ell+1,ell+1)) \n",
    "\n",
    "## Below here we're less playful.\n",
    "\n",
    "# Var([X,Z]|u) is constructed so that pos. def.\n",
    "VXZ = A.T@A \n",
    "\n",
    "truth = (beta,VXZ)"
   ]
  },
  {
   "cell_type": "markdown",
   "metadata": {},
   "source": [
    "### Monte Carlo Analysis of MLE via GMM\n",
    "\n"
   ]
  },
  {
   "cell_type": "markdown",
   "metadata": {},
   "source": [
    "Here we take the score to be our moment condition; $Z$ doesn&rsquo;t appear,\n",
    "so estimator is just identified.\n",
    "\n"
   ]
  },
  {
   "cell_type": "code",
   "execution_count": 79,
   "metadata": {},
   "outputs": [
    {
     "ename": "ModuleNotFoundError",
     "evalue": "No module named 'gmm'",
     "output_type": "error",
     "traceback": [
      "\u001b[0;31m---------------------------------------------------------------------------\u001b[0m",
      "\u001b[0;31mModuleNotFoundError\u001b[0m                       Traceback (most recent call last)",
      "\u001b[0;32m<ipython-input-79-ffc2451cac3e>\u001b[0m in \u001b[0;36m<module>\u001b[0;34m\u001b[0m\n\u001b[1;32m      1\u001b[0m \u001b[0;31m# 8.4 ORIGINAL CODE\u001b[0m\u001b[0;34m\u001b[0m\u001b[0;34m\u001b[0m\u001b[0;34m\u001b[0m\u001b[0m\n\u001b[1;32m      2\u001b[0m \u001b[0;34m\u001b[0m\u001b[0m\n\u001b[0;32m----> 3\u001b[0;31m \u001b[0;32mimport\u001b[0m \u001b[0mgmm\u001b[0m \u001b[0;31m# Just code defined last class\u001b[0m\u001b[0;34m\u001b[0m\u001b[0;34m\u001b[0m\u001b[0m\n\u001b[0m\u001b[1;32m      4\u001b[0m \u001b[0;34m\u001b[0m\u001b[0m\n\u001b[1;32m      5\u001b[0m \u001b[0mgmm\u001b[0m\u001b[0;34m.\u001b[0m\u001b[0mgj\u001b[0m \u001b[0;34m=\u001b[0m \u001b[0mmle\u001b[0m  \u001b[0;31m# Redefine gj function to use MLE score\u001b[0m\u001b[0;34m\u001b[0m\u001b[0;34m\u001b[0m\u001b[0m\n",
      "\u001b[0;31mModuleNotFoundError\u001b[0m: No module named 'gmm'"
     ]
    }
   ],
   "source": [
    "# 8.4 ORIGINAL CODE\n",
    "\n",
    "import gmm # Just code defined last class\n",
    "\n",
    "gmm.gj = mle  # Redefine gj function to use MLE score\n",
    "\n",
    "data = dgp(1000,*truth)\n",
    "\n",
    "soltn = gmm.two_step_gmm(data)\n",
    "\n",
    "limiting_J = iid.chi2(0)\n",
    "\n",
    "print(\"b=%f, J=%f, Critical J=%f\" % (soltn.x,soltn.fun,limiting_J.isf(0.05)))"
   ]
  },
  {
   "cell_type": "code",
   "execution_count": 80,
   "metadata": {},
   "outputs": [],
   "source": [
    "# 8.X1 CODE CELL NOT IN ORIGINAL\n",
    "\n",
    "### Clone all of the github repository into your notebook\n",
    "%%bash\n",
    "git clone https://github.com/ligonteaching/ARE212_Materials\n"
   ]
  },
  {
   "cell_type": "code",
   "execution_count": 82,
   "metadata": {},
   "outputs": [],
   "source": [
    "# 8.X2 CODE CELL NOT IN ORIGINAL\n",
    "\n",
    "### Load gmm.py into your notebook\n",
    "%load ARE212_Materials/gmm.py"
   ]
  },
  {
   "cell_type": "code",
   "execution_count": 83,
   "metadata": {},
   "outputs": [
    {
     "name": "stdout",
     "output_type": "stream",
     "text": [
      "b=2.025927, J=0.000000, Critical J=nan\n"
     ]
    }
   ],
   "source": [
    "# 8.4 CODE ABOVE WITH COMMENTS AND PRINTING\n",
    "\n",
    "### specify where you're importing from\n",
    "from ARE212_Materials import gmm # Just code defined last class\n",
    "\n",
    "gmm.gj = mle  # Redefine gj function to use MLE score\n",
    "\n",
    "data = dgp(1000,*truth)\n",
    "\n",
    "soltn = gmm.two_step_gmm(data)\n",
    "\n",
    "limiting_J = iid.chi2(0)\n",
    "\n",
    "print(\"b=%f, J=%f, Critical J=%f\" % (soltn.x,soltn.fun,limiting_J.isf(0.05)))\n",
    "\n"
   ]
  },
  {
   "cell_type": "markdown",
   "metadata": {},
   "source": [
    "Now our experiment begins.  We set our frequentist hats firmly on our\n",
    "heads, and draw repeated samples of data, each generating a\n",
    "corresponding estimate of beta.  Then the empirical distribution of\n",
    "these samples tells us about the *finite* sample performance of our estimator.\n",
    "\n",
    "We&rsquo;ll generate a sample of estimates of $b$ by drawing repeated\n",
    "samples of size $N$, until estimates of the covariance of our\n",
    "estimates converge:\n",
    "\n"
   ]
  },
  {
   "cell_type": "code",
   "execution_count": 85,
   "metadata": {},
   "outputs": [],
   "source": [
    "# 8.5 ORIGINAL CODE\n",
    "\n",
    "### specify where you're importing from\n",
    "from ARE212_Materials import gmm # Just code defined last class\n",
    "\n",
    "N = 1000 # Sample size\n",
    "\n",
    "tol = 1e-3\n",
    "\n",
    "b_mle = []\n",
    "b_nliv = []\n",
    "J_nliv = []\n",
    "\n",
    "d=0\n",
    "oldV = 0\n",
    "newV = 1\n",
    "while d<30 or np.linalg.norm(oldV-newV) > tol:\n",
    "    d += 1\n",
    "    oldV = newV\n",
    "    data = dgp(N,*truth)\n",
    "    gmm.gj = mle\n",
    "    soltn_mle = gmm.two_step_gmm(data)\n",
    "    b_mle.append(soltn_mle.x)\n",
    "\n",
    "    gmm.gj = nonlinear_iv\n",
    "    soltn_nliv = gmm.two_step_gmm(data)\n",
    "    b_nliv.append(soltn_nliv.x)\n",
    "    J_nliv.append(soltn_nliv.fun)\n",
    "\n",
    "    newV = np.var(b_nliv)"
   ]
  },
  {
   "cell_type": "markdown",
   "metadata": {},
   "source": [
    "Now compare MLE & NLIV estimates:\n",
    "\n"
   ]
  },
  {
   "cell_type": "code",
   "execution_count": 86,
   "metadata": {},
   "outputs": [
    {
     "data": {
      "image/png": "[encoded data removed]",
      "text/plain": [
       "<Figure size 432x288 with 1 Axes>"
      ]
     },
     "metadata": {
      "needs_background": "light"
     },
     "output_type": "display_data"
    }
   ],
   "source": [
    "# 8.6 ORIGINAL CODE\n",
    "\n",
    "from matplotlib import pyplot as plt\n",
    "\n",
    "_ = plt.scatter(b_mle,b_nliv)"
   ]
  },
  {
   "cell_type": "markdown",
   "metadata": {},
   "source": [
    "## 9. [linear-non-linear](https://datahub.berkeley.edu/user/benjaminkrause/notebooks/ARE212_Materials/linear-non-linear.ipynb)"
   ]
  },
  {
   "cell_type": "markdown",
   "metadata": {},
   "source": [
    "or see [linear-non-linear on github](https://github.com/ligonteaching/ARE212_Materials/blob/master/linear-non-linear.ipynb)"
   ]
  },
  {
   "cell_type": "markdown",
   "metadata": {
    "colab_type": "text",
    "id": "czZFEsWmYhcw"
   },
   "source": [
    "## Linear Non-Linear Functions\n",
    "\n"
   ]
  },
  {
   "cell_type": "code",
   "execution_count": 80,
   "metadata": {
    "colab": {},
    "colab_type": "code",
    "id": "eATbcqQRYhcx"
   },
   "outputs": [],
   "source": [
    "# 9.1 ORIGINAL CODE\n",
    "\n",
    "import numpy as np\n",
    "from numpy.linalg import norm\n",
    "from scipy.stats import distributions as iid\n",
    "import pandas as pd\n",
    "\n",
    "f0 = lambda x: x*np.sin(x) # True function\n",
    "\n",
    "# Factory function for phi_k(x)\n",
    "phi_factory = lambda c,s=1: lambda x: np.exp(-(1/(2*s))*norm(x-c)**2)  # RBF\n",
    "# phi_factory = lambda c,s=1: lambda x: (x**c)/s  # Polynomial"
   ]
  },
  {
   "cell_type": "markdown",
   "metadata": {},
   "source": [
    "<font color='red'> *notes*: </font>\n",
    "- `lambda` functions is a shorthand way of defining functions in Python.  Use the keyword \"lambda\", define a bound variable or variables (separated by a `,`), then the function (or \"body\") that the bound variable(s) should pass through.  For more on [How to Use Python Lambda Functions](https://realpython.com/python-lambda/)\n",
    "- `np.sin()`: Trigonometric sine function\n",
    "- `norm()`: returns Matrix or vector norm.  `norm(x, ord=None, axis=None, keepdims=False)` <br>\n",
    "When `ord` is empty, the default norm is Frobenius given by $||A||_F = [\\sum_{i,j} abs(a_{i,j})^2]^{1/2}$"
   ]
  },
  {
   "cell_type": "code",
   "execution_count": 81,
   "metadata": {},
   "outputs": [],
   "source": [
    "# 9.1 CODE ABOVE WITH COMMENTS AND PRINTING\n",
    "\n",
    "import numpy as np\n",
    "from numpy.linalg import norm\n",
    "from scipy.stats import distributions as iid\n",
    "import pandas as pd\n",
    "\n",
    "# f0 gets a lambda function \n",
    "f0 = lambda x: x*np.sin(x) # True function\n",
    "\n",
    "# Factory function for phi_k(x) \n",
    "### \"Phi-factory\" (a function that returns a function) generating radial basis with with different centers \n",
    "###### phi_factory gets a lambda function with c and s bound variables (s fixed = 1)\n",
    "###### which then passes through a nested lambda function with x as a bound variable\n",
    "###### which then raises e to the power of -1/(2*s) times the square of the Frobenius norm of x-c\n",
    "phi_factory = lambda c,s=1: lambda x: np.exp(-(1/(2*s))*norm(x-c)**2)  # RBF\n",
    "\n",
    "### Alternative phi_factory gets a lambda function with c and s bound variables (s fixed = 1)\n",
    "###### which then passes through a nested lambda function with x as a bound variable\n",
    "###### which then raises x to the power of c and then divides by s\n",
    "# phi_factory = lambda c,s=1: lambda x: (x**c)/s  # Polynomial"
   ]
  },
  {
   "cell_type": "code",
   "execution_count": 82,
   "metadata": {
    "colab": {},
    "colab_type": "code",
    "id": "DsWWjGwPYhc0"
   },
   "outputs": [],
   "source": [
    "# 9.2 ORIGINAL CODE\n",
    "\n",
    "def dgp(N,sigma_u):\n",
    "    X = iid.uniform(loc=0,scale=2*np.pi).rvs(N).tolist()\n",
    "    X.sort()\n",
    "\n",
    "    u = iid.norm(scale=sigma_u)\n",
    "\n",
    "    y = pd.Series([f0(x) + u.rvs(1)[0] for x in X])\n",
    "\n",
    "    return X,y\n",
    "\n",
    "N = 20\n",
    "X,y = dgp(N,0.1)"
   ]
  },
  {
   "cell_type": "code",
   "execution_count": 83,
   "metadata": {},
   "outputs": [],
   "source": [
    "# 9.2 CODE ABOVE WITH COMMENTS AND PRINTING\n",
    "\n",
    "### define a function dgp for the data generating process \n",
    "def dgp(N,sigma_u):\n",
    "    \n",
    "    ### X gets N random draws converted to a list \n",
    "    ###### from a uniform continuous random variable with mean 0 and standard deviation 2*pi\n",
    "    X = iid.uniform(loc=0,scale=2*np.pi).rvs(N).tolist() \n",
    "    ### arrange smallest to largest\n",
    "    X.sort()\n",
    "    \n",
    "    ### u gets a normal continuous random variable with sd = sigma_u\n",
    "    u = iid.norm(scale=sigma_u)\n",
    "\n",
    "    ### y gets a series of N evaluations of f0:x*np.sin(x) iterated over each x in X \n",
    "    y = pd.Series([f0(x) + u.rvs(1)[0] for x in X]) # making a list of evaluations of F0 evaluated at all of our sample X's\n",
    "\n",
    "    return X,y # defines our dgp\n",
    "\n",
    "N = 100 # sample\n",
    "\n",
    "### X and y respectively get the returns from running the dgp with N and sd of u = 0.1\n",
    "X,y = dgp(N,0.1) # depends only on the variance of the disturbance term, SD of u = 0.1"
   ]
  },
  {
   "cell_type": "markdown",
   "metadata": {
    "colab_type": "text",
    "id": "pq9BPzo8Yhc2"
   },
   "source": [
    "Consider scatterplot:\n",
    "\n"
   ]
  },
  {
   "cell_type": "code",
   "execution_count": 84,
   "metadata": {
    "colab": {},
    "colab_type": "code",
    "id": "eaoJ-IZbYhc3"
   },
   "outputs": [
    {
     "data": {
      "text/plain": [
       "[<matplotlib.lines.Line2D at 0x7f5ce040acc0>]"
      ]
     },
     "execution_count": 84,
     "metadata": {},
     "output_type": "execute_result"
    },
    {
     "data": {
      "image/png": "[encoded data removed]",
      "text/plain": [
       "<Figure size 432x288 with 1 Axes>"
      ]
     },
     "metadata": {
      "needs_background": "light"
     },
     "output_type": "display_data"
    }
   ],
   "source": [
    "# 9.3 ORIGINAL CODE\n",
    "\n",
    "import matplotlib.pyplot as plt\n",
    "\n",
    "fig, ax = plt.subplots()\n",
    "\n",
    "ax.scatter(X,y)\n",
    "\n",
    "Domain = np.linspace(0,2*np.pi,N).tolist()\n",
    "\n",
    "ax.plot(Domain,[f0(x) for x in Domain])"
   ]
  },
  {
   "cell_type": "markdown",
   "metadata": {},
   "source": [
    "<font color='red'> *notes*: </font>\n",
    "- `matplotlib.pyplot`: to learn more see [pyplot documentation](https://matplotlib.org/api/pyplot_api.html)\n",
    "- `plt.subplots()`: \"Creates a figure and a set of subplots. This utility wrapper makes it convenient to create common layouts of subplots, including the enclosing figure object, in a single call.\"\n",
    "- `np.linspace`: Return evenly spaced numbers over a specified interval.\n"
   ]
  },
  {
   "cell_type": "code",
   "execution_count": 85,
   "metadata": {},
   "outputs": [
    {
     "name": "stdout",
     "output_type": "stream",
     "text": [
      "Figure(432x288)\n",
      "AxesSubplot(0.125,0.125;0.775x0.755)\n"
     ]
    },
    {
     "data": {
      "image/png": "[encoded data removed]",
      "text/plain": [
       "<Figure size 432x288 with 1 Axes>"
      ]
     },
     "metadata": {
      "needs_background": "light"
     },
     "output_type": "display_data"
    }
   ],
   "source": [
    "# 9.3a CODE ABOVE WITH COMMENTS AND PRINTING\n",
    "\n",
    "import matplotlib.pyplot as plt\n",
    "\n",
    "# define the dimensions and Axes\n",
    "fig, ax = plt.subplots()\n",
    "print(fig)\n",
    "print(ax)\n"
   ]
  },
  {
   "cell_type": "code",
   "execution_count": 86,
   "metadata": {},
   "outputs": [
    {
     "data": {
      "text/plain": [
       "<matplotlib.collections.PathCollection at 0x7f5ce03f5470>"
      ]
     },
     "execution_count": 86,
     "metadata": {},
     "output_type": "execute_result"
    },
    {
     "data": {
      "image/png": "[encoded data removed]",
      "text/plain": [
       "<Figure size 432x288 with 1 Axes>"
      ]
     },
     "metadata": {
      "needs_background": "light"
     },
     "output_type": "display_data"
    }
   ],
   "source": [
    "# 9.3b CODE ABOVE WITH COMMENTS AND PRINTING\n",
    "\n",
    "# define the dimensions and Axes\n",
    "fig, ax = plt.subplots()\n",
    "\n",
    "# plot the scatter\n",
    "ax.scatter(X,y)\n"
   ]
  },
  {
   "cell_type": "code",
   "execution_count": 87,
   "metadata": {},
   "outputs": [
    {
     "name": "stdout",
     "output_type": "stream",
     "text": [
      "100\n"
     ]
    },
    {
     "data": {
      "text/plain": [
       "[<matplotlib.lines.Line2D at 0x7f5ce03295c0>]"
      ]
     },
     "execution_count": 87,
     "metadata": {},
     "output_type": "execute_result"
    },
    {
     "data": {
      "image/png": "[encoded data removed]",
      "text/plain": [
       "<Figure size 432x288 with 1 Axes>"
      ]
     },
     "metadata": {
      "needs_background": "light"
     },
     "output_type": "display_data"
    }
   ],
   "source": [
    "# 9.3c CODE ABOVE WITH COMMENTS AND PRINTING\n",
    "\n",
    "# define the dimensions and Axes\n",
    "fig, ax = plt.subplots()\n",
    "\n",
    "# plot the scatter\n",
    "ax.scatter(X,y)\n",
    "\n",
    "# Domain gets a list of N evenly spaced numbers from 0 to 2pi.\n",
    "Domain = np.linspace(0,2*np.pi,N).tolist()\n",
    "print(len(Domain))\n",
    "\n",
    "# plot from ax evaluating f0 for each of the elements of the Domain list\n",
    "ax.plot(Domain,[f0(x) for x in Domain])\n"
   ]
  },
  {
   "cell_type": "code",
   "execution_count": 88,
   "metadata": {},
   "outputs": [
    {
     "name": "stdout",
     "output_type": "stream",
     "text": [
      "Requirement already satisfied: CFEDemands in /srv/app/venv/lib/python3.6/site-packages\n",
      "\u001b[33mYou are using pip version 9.0.3, however version 20.1 is available.\n",
      "You should consider upgrading via the 'pip install --upgrade pip' command.\u001b[0m\n"
     ]
    }
   ],
   "source": [
    "# 9.X1 CODE NOT IN ORIGINAL\n",
    "\n",
    "### installs a package from CFEDemands which is a package that Ethan maintains \n",
    "###### (needed for a functional form later in the code)\n",
    "!pip install CFEDemands --pre \n"
   ]
  },
  {
   "cell_type": "markdown",
   "metadata": {
    "colab_type": "text",
    "id": "rti1JUxAYhc5"
   },
   "source": [
    "Now regression:\n",
    "\n"
   ]
  },
  {
   "cell_type": "code",
   "execution_count": 94,
   "metadata": {
    "colab": {},
    "colab_type": "code",
    "id": "gjzgKxnYYhc6"
   },
   "outputs": [
    {
     "data": {
      "text/plain": [
       "y    3.48497\n",
       "dtype: float64"
      ]
     },
     "execution_count": 94,
     "metadata": {},
     "output_type": "execute_result"
    }
   ],
   "source": [
    "# 9.4 ORIGINAL CODE\n",
    "\n",
    "from cfe.df_utils import ols\n",
    "\n",
    "\n",
    "## Or\n",
    "K=3\n",
    "phis = {k:phi_factory(k) for k in range(K)}\n",
    "\n",
    "phis[0] = lambda x: 1 # Constant function\n",
    "\n",
    "TX = {}\n",
    "for k in range(K):\n",
    "    TX[k] = [phis[k](x) for x in X]\n",
    "\n",
    "TX = pd.DataFrame(TX)\n",
    "\n",
    "try: # If y isn't a DataFrame make it one\n",
    "    y = pd.DataFrame({'y':y})\n",
    "except ValueError: # Guess it is!\n",
    "    pass\n",
    "\n",
    "alpha,se = ols(TX, y) \n",
    "\n",
    "# Check fit:\n",
    "e = ((y - TX@alpha.T)**2)\n",
    "e.var()"
   ]
  },
  {
   "cell_type": "code",
   "execution_count": 95,
   "metadata": {},
   "outputs": [
    {
     "name": "stdout",
     "output_type": "stream",
     "text": [
      "alpha =  \n",
      "           0         1         2\n",
      "y -3.566741  1.599647  4.857959\n",
      "\n",
      "se =  \n",
      "           0         1        2\n",
      "y  0.105447  0.714385  0.83257\n",
      "\n"
     ]
    },
    {
     "data": {
      "text/plain": [
       "y    1.012271\n",
       "dtype: float64"
      ]
     },
     "execution_count": 95,
     "metadata": {},
     "output_type": "execute_result"
    }
   ],
   "source": [
    "# 9.4 CODE ABOVE WITH COMMENTS AND PRINTING\n",
    "import cfe\n",
    "from cfe.df_utils import ols\n",
    "\n",
    "\n",
    "## Or\n",
    "### 3 radial bases as our function\n",
    "K=3 \n",
    "\n",
    "### try 10 instead (comment out k=3)\n",
    "# K=10\n",
    "\n",
    "### phis get a dictionary of the basis functions from the phi_factory\n",
    "phis = {k:phi_factory(k) for k in range(K)} \n",
    "\n",
    "phis[0] = lambda x: 1 # Constant function ### not in the factory, but added manually here as a connstant function \"that pesky phi-not\"\n",
    "\n",
    "### define a transformation of X evaluated at all the phis\n",
    "TX = {} \n",
    "# think of TX as a function defining an NxK matrix of the phis\n",
    "for k in range(K):\n",
    "    TX[k] = [phis[k](x) for x in X]\n",
    "\n",
    "    # reformat to make it run nicely\n",
    "TX = pd.DataFrame(TX)\n",
    "\n",
    "try: # If y isn't a DataFrame make it one\n",
    "    y = pd.DataFrame({'y':y})\n",
    "except ValueError: # Guess it is!\n",
    "    pass\n",
    "\n",
    "# regress y on TX\n",
    "alpha,se = ols(TX, y) \n",
    "print(\"alpha = \", '\\n', alpha)\n",
    "print()\n",
    "print(\"se = \", '\\n', se.T)\n",
    "print()\n",
    "\n",
    "# Check fit:\n",
    "### compute the squared error of these guys\n",
    "e = ((y - TX@alpha.T)) # note: got rid of the square here\n",
    "### SSR\n",
    "e.var()"
   ]
  },
  {
   "cell_type": "markdown",
   "metadata": {
    "colab_type": "text",
    "id": "7JcisrWyYhc8"
   },
   "source": [
    "Note that expected *within* sample error variance is effectively zero!\n",
    "\n",
    "Now construct $\\hat{f}$ and plot predictions:\n",
    "\n"
   ]
  },
  {
   "cell_type": "code",
   "execution_count": 96,
   "metadata": {
    "colab": {},
    "colab_type": "code",
    "id": "JqAbyFlmYhc8"
   },
   "outputs": [
    {
     "data": {
      "image/png": "[encoded data removed]",
      "text/plain": [
       "<Figure size 432x288 with 1 Axes>"
      ]
     },
     "execution_count": 96,
     "metadata": {},
     "output_type": "execute_result"
    }
   ],
   "source": [
    "# 9.5 ORIGINAL CODE\n",
    "\n",
    "def fhat(x,alpha):\n",
    "\n",
    "    yhat = 0\n",
    "    for k,phik in phis.items():\n",
    "        yhat += alpha[k]*phik(x)\n",
    "\n",
    "    return yhat\n",
    "\n",
    "Domain = np.linspace(0,2*np.pi,100).tolist()\n",
    "\n",
    "_ = ax.plot(Domain,[fhat(x,alpha) for x in Domain])\n",
    "fig"
   ]
  },
  {
   "cell_type": "markdown",
   "metadata": {},
   "source": [
    "<font color='red'> *notes*: </font>\n",
    "- `+=`: [Additional Assignment](https://python-reference.readthedocs.io/en/latest/docs/operators/addition_assignment.html) operator \"Adds a value and the variable and assigns the result to that variable.\"\n",
    "- `dict.items()` Returns a list of a dictionary's pairs (key, value) as tuples\n",
    "\n"
   ]
  },
  {
   "cell_type": "code",
   "execution_count": 97,
   "metadata": {
    "scrolled": true
   },
   "outputs": [
    {
     "data": {
      "image/png": "[encoded data removed]",
      "text/plain": [
       "<Figure size 432x288 with 1 Axes>"
      ]
     },
     "execution_count": 97,
     "metadata": {},
     "output_type": "execute_result"
    }
   ],
   "source": [
    "# 9.5 CODE ABOVE WITH COMMENTS AND PRINTING\n",
    "\n",
    "### define a function fhat that takes x and alpha\n",
    "def fhat(x,alpha):\n",
    "    \n",
    "    ### start by setting yhat to zero\n",
    "    yhat = 0\n",
    "    \n",
    "    ### remmeber phis get a dictionary with K entries of the basis functions from the phi_factory \n",
    "    for k,phik in phis.items():\n",
    "        \n",
    "        ### start with yhat and then use additional assignment to add to it each alpha[k]*phik(x)\n",
    "        yhat += alpha[k]*phik(x)\n",
    "\n",
    "    return yhat\n",
    "\n",
    "Domain = np.linspace(0,2*np.pi,100).tolist()\n",
    "\n",
    "_ = ax.plot(Domain,[fhat(x,alpha) for x in Domain])\n",
    "fig"
   ]
  },
  {
   "cell_type": "markdown",
   "metadata": {
    "colab_type": "text",
    "id": "S-7evThhYhc-"
   },
   "source": [
    "Compute the MSE:\n",
    "\n"
   ]
  },
  {
   "cell_type": "code",
   "execution_count": 98,
   "metadata": {
    "colab": {},
    "colab_type": "code",
    "id": "kKLuoD4zYhc_"
   },
   "outputs": [
    {
     "data": {
      "text/plain": [
       "6.601472497164387"
      ]
     },
     "execution_count": 98,
     "metadata": {},
     "output_type": "execute_result"
    }
   ],
   "source": [
    "# 9.6 ORIGINAL CODE\n",
    "\n",
    "dx = Domain[1]-Domain[0]\n",
    "MSE = np.sum([((f0(x) - fhat(x,alpha))**2)*dx for x in Domain])\n",
    "\n",
    "MSE"
   ]
  },
  {
   "cell_type": "code",
   "execution_count": 100,
   "metadata": {},
   "outputs": [
    {
     "name": "stdout",
     "output_type": "stream",
     "text": [
      "dx =  0.06346651825433926\n",
      "\n"
     ]
    },
    {
     "data": {
      "text/plain": [
       "6.601472497164387"
      ]
     },
     "execution_count": 100,
     "metadata": {},
     "output_type": "execute_result"
    }
   ],
   "source": [
    "# 9.6 CODE ABOVE WITH COMMENTS AND PRINTING\n",
    "\n",
    "dx = Domain[1]-Domain[0]\n",
    "print(\"dx = \", dx)\n",
    "print()\n",
    "\n",
    "MSE = np.sum([((f0(x) - fhat(x,alpha))**2)*dx for x in Domain])\n",
    "\n",
    "MSE # Mean Squared Error integrating across the domain"
   ]
  },
  {
   "cell_type": "markdown",
   "metadata": {
    "colab_type": "text",
    "id": "-jAaa1q5YhdB"
   },
   "source": [
    "### Questions\n",
    "\n"
   ]
  },
  {
   "cell_type": "markdown",
   "metadata": {
    "colab_type": "text",
    "id": "tnUl0dWYYhdB"
   },
   "source": [
    "1.  What&rsquo;s the expected squared out of sample prediction error of this\n",
    "    estimator (not just an estimate), using the same size sample as above?\n",
    "    1.  In this case what&rsquo;s the expected squared bias?  The variance?\n",
    "\n"
   ]
  },
  {
   "cell_type": "markdown",
   "metadata": {},
   "source": [
    "Now regression:\n",
    "\n"
   ]
  },
  {
   "cell_type": "markdown",
   "metadata": {},
   "source": [
    "Note that expected *within* sample error variance is effectively zero!\n",
    "\n",
    "Now construct $\\hat{f}$ and plot predictions:\n",
    "\n"
   ]
  },
  {
   "cell_type": "markdown",
   "metadata": {},
   "source": [
    "Compute the MSE:\n",
    "\n"
   ]
  },
  {
   "cell_type": "markdown",
   "metadata": {},
   "source": [
    "## 10. Student Code Discussions"
   ]
  },
  {
   "cell_type": "markdown",
   "metadata": {},
   "source": [
    "### 10a. Feasible Optimally Weighted GMM estimators\n",
    "(submitted to [Bcourses Discussion](https://bcourses.berkeley.edu/courses/1487913/discussion_topics/5756813) by Elif Tasar)"
   ]
  },
  {
   "cell_type": "markdown",
   "metadata": {},
   "source": [
    "### DGP (Ethan's code)"
   ]
  },
  {
   "cell_type": "code",
   "execution_count": 6,
   "metadata": {},
   "outputs": [
    {
     "name": "stdout",
     "output_type": "stream",
     "text": [
      "[[0.73115722]]\n"
     ]
    }
   ],
   "source": [
    "import numpy as np\n",
    "import matplotlib.pyplot as plt\n",
    "from numpy.linalg import inv\n",
    "\n",
    "## Play with us!\n",
    "beta = 1     # \"Coefficient of interest\"\n",
    "gamma = 1    # Governs effect of u on X\n",
    "sigma_u = 1  # Note assumption of homoskedasticity\n",
    "## Play with us!\n",
    "\n",
    "# Let Z have order ell, and X order 1, with Var([X,Z]|u)=VXZ\n",
    "\n",
    "ell = 4 # Play with me too!\n",
    "\n",
    "# Arbitrary (but deterministic) choice for VXZ\n",
    "A = np.sqrt(1/np.arange(1,(ell+1)**2+1)).reshape((ell+1,ell+1)) \n",
    "\n",
    "\n",
    "## Below here we're less playful.\n",
    "\n",
    "# Var([X,Z]|u) is constructed so that pos. def.\n",
    "VXZ = A.T@A \n",
    "\n",
    "Q = VXZ[1:,[0]]  # EZX'\n",
    "\n",
    "truth = (beta,gamma,sigma_u,VXZ)\n",
    "\n",
    "## But play with Omega if you want to introduce heteroskedascity\n",
    "Omega = (sigma_u**2)*VXZ[1:,1:] # E(Zu)(u'Z')\n",
    "\n",
    "# Asymptotic variance of optimally weighted GMM estimator:\n",
    "print(inv(Q.T@inv(Omega)@Q))"
   ]
  },
  {
   "cell_type": "code",
   "execution_count": 7,
   "metadata": {},
   "outputs": [],
   "source": [
    "from scipy.stats import distributions as iid\n",
    "\n",
    "def dgp(N,beta,gamma,sigma_u,VXZ):\n",
    "    \"\"\"Generate a tuple of (y,X,Z).\n",
    "\n",
    "    Satisfies model:\n",
    "        y = X@beta + u\n",
    "        E Z'u = 0\n",
    "        Var(u) = sigma^2\n",
    "        Cov(X,u) = gamma*sigma_u^2\n",
    "        Var([X,Z}|u) = VXZ\n",
    "        u,X,Z mean zero, Gaussian\n",
    "\n",
    "    Each element of the tuple is an array of N observations.\n",
    "\n",
    "    Inputs include\n",
    "    - beta :: the coefficient of interest\n",
    "    - gamma :: linear effect of disturbance on X\n",
    "    - sigma_u :: Variance of disturbance\n",
    "    - VXZ :: Cov([X,Z|u])\n",
    "    \"\"\"\n",
    "    \n",
    "    u = iid.norm.rvs(size=(N,1))*sigma_u\n",
    "\n",
    "    # \"Square root\" of VXZ via eigendecomposition\n",
    "    lbda,v = np.linalg.eig(VXZ)\n",
    "    SXZ = v@np.diag(np.sqrt(lbda))\n",
    "\n",
    "    # Generate normal random variates [X*,Z]\n",
    "    XZ = iid.norm.rvs(size=(N,VXZ.shape[0]))@SXZ.T\n",
    "\n",
    "    # But X is endogenous...\n",
    "    X = XZ[:,[0]] + gamma*u\n",
    "    Z = XZ[:,1:]\n",
    "\n",
    "    # Calculate y\n",
    "    y = X*beta + u\n",
    "\n",
    "    return y,X,Z"
   ]
  },
  {
   "cell_type": "code",
   "execution_count": 8,
   "metadata": {},
   "outputs": [],
   "source": [
    "N = 1000\n",
    "\n",
    "data = dgp(N,*truth)\n",
    "\n",
    "y,X,Z = data"
   ]
  },
  {
   "cell_type": "markdown",
   "metadata": {},
   "source": [
    "### Two-step GMM estimator (Ethan's code)"
   ]
  },
  {
   "cell_type": "code",
   "execution_count": 9,
   "metadata": {},
   "outputs": [],
   "source": [
    "def gj(b,y,X,Z):\n",
    "    \"\"\"Observations of g_j(b).\n",
    "\n",
    "    This defines the deviations from the predictions of our model; i.e.,\n",
    "    e_j = Z_ju_j, where EZ_ju_j=0.\n",
    "\n",
    "    Can replace this function to testimate a different model.\n",
    "    \"\"\"\n",
    "    return Z*(y - X*b)"
   ]
  },
  {
   "cell_type": "code",
   "execution_count": 10,
   "metadata": {},
   "outputs": [],
   "source": [
    "def gN(b,data):\n",
    "    \"\"\"Averages of g_j(b).\n",
    "\n",
    "    This is generic for data, to be passed to gj.\n",
    "    \"\"\"\n",
    "    e = gj(b,*data)\n",
    "\n",
    "    # Check to see more obs. than moments.\n",
    "    assert e.shape[0] > e.shape[1]\n",
    "    \n",
    "    return e.mean(axis=0)"
   ]
  },
  {
   "cell_type": "code",
   "execution_count": 11,
   "metadata": {},
   "outputs": [],
   "source": [
    "def Omegahat(b,data):\n",
    "    e = gj(b,*data)\n",
    "\n",
    "    # Recenter! We have Eu=0 under null.\n",
    "    # Important to use this information.\n",
    "    e = e - e.mean(axis=0) \n",
    "    \n",
    "    return e.T@e/e.shape[0]"
   ]
  },
  {
   "cell_type": "code",
   "execution_count": 12,
   "metadata": {},
   "outputs": [],
   "source": [
    "def J(b,W,data):\n",
    "\n",
    "    m = gN(b,data) # Sample moments @ b\n",
    "    N = data[0].shape[0]\n",
    "\n",
    "    return N*m.T@W@m # Scale by sample size"
   ]
  },
  {
   "cell_type": "code",
   "execution_count": 13,
   "metadata": {},
   "outputs": [],
   "source": [
    "from scipy.optimize import minimize_scalar\n",
    "\n",
    "def two_step_gmm(data):\n",
    "    \n",
    "    \"\"\"Given data, defines and returns two-step GMM estimator.\"\"\"\n",
    "\n",
    "    # First step uses identity weighting matrix\n",
    "    W1 = np.eye(gj(1,*data).shape[1])\n",
    "\n",
    "    b1 = minimize_scalar(lambda b: J(b,W1,data)).x \n",
    "\n",
    "    # Construct 2nd step weighting matrix using\n",
    "    # first step estimate of beta\n",
    "    W2 = inv(Omegahat(b1,data))\n",
    "\n",
    "    return minimize_scalar(lambda b: J(b,W2,data)).x"
   ]
  },
  {
   "cell_type": "code",
   "execution_count": 14,
   "metadata": {},
   "outputs": [
    {
     "data": {
      "text/plain": [
       "1.0071939931608112"
      ]
     },
     "execution_count": 14,
     "metadata": {},
     "output_type": "execute_result"
    }
   ],
   "source": [
    "two_step_gmm(data)"
   ]
  },
  {
   "cell_type": "markdown",
   "metadata": {},
   "source": [
    "### Iterated GMM estimator"
   ]
  },
  {
   "cell_type": "code",
   "execution_count": 15,
   "metadata": {},
   "outputs": [],
   "source": [
    "def iterated_gmm(data, epsilon=1e-5): \n",
    "    \n",
    "    \"\"\"Given data, defines and returns iterated GMM estimator.\"\"\"\n",
    "    \n",
    "    dim = gj(1, *data).shape[1]\n",
    "    # First step uses identity weighting matrix\n",
    "    A_minus1 = np.full(shape=(dim, dim), fill_value=np.inf) \n",
    "    # the above is a trick to make sure that while condition succeeds the first time  \n",
    "    A0 = np.eye(dim)\n",
    "    As = [A_minus1, A0]\n",
    "    \n",
    "    # while np.linalg.norm(As[-1] - As[-2]) >= epsilon:\n",
    "    while np.linalg.norm(As[-1] - As[-2]) >= epsilon:\n",
    "        new_b = minimize_scalar(lambda b: J(b, As[-1], data)).x \n",
    "        new_A = Omegahat(new_b, data)\n",
    "        As.append(new_A)\n",
    "        \n",
    "    return new_b"
   ]
  },
  {
   "cell_type": "code",
   "execution_count": 16,
   "metadata": {},
   "outputs": [
    {
     "data": {
      "text/plain": [
       "1.0166196108903283"
      ]
     },
     "execution_count": 16,
     "metadata": {},
     "output_type": "execute_result"
    }
   ],
   "source": [
    "iterated_gmm(data, 0.001)"
   ]
  },
  {
   "cell_type": "markdown",
   "metadata": {},
   "source": [
    "### Continuous GMM estimator"
   ]
  },
  {
   "cell_type": "code",
   "execution_count": 17,
   "metadata": {},
   "outputs": [],
   "source": [
    "def continuous_gmm(data): \n",
    "    \n",
    "    \"\"\"Given data, defines and returns continuous GMM estimator.\"\"\"\n",
    "    \n",
    "    b = minimize_scalar(lambda b: N * gN(b, data) @ inv(Omegahat(b, data)) @ gN(b, data)).x \n",
    "    \n",
    "    return b "
   ]
  },
  {
   "cell_type": "code",
   "execution_count": 18,
   "metadata": {},
   "outputs": [
    {
     "data": {
      "text/plain": [
       "1.0041305908020688"
      ]
     },
     "execution_count": 18,
     "metadata": {},
     "output_type": "execute_result"
    }
   ],
   "source": [
    "continuous_gmm(data)"
   ]
  },
  {
   "cell_type": "markdown",
   "metadata": {},
   "source": [
    "### Monte Carlo"
   ]
  },
  {
   "cell_type": "code",
   "execution_count": 19,
   "metadata": {},
   "outputs": [],
   "source": [
    "def monte_carlo_estimates(N, D, func):\n",
    "    b_draws = []\n",
    "    J_draws = []\n",
    "    for d in range(D):\n",
    "        soltn = func(dgp(N,*truth))\n",
    "        b_draws.append(soltn)\n",
    "    return b_draws"
   ]
  },
  {
   "cell_type": "code",
   "execution_count": 25,
   "metadata": {},
   "outputs": [
    {
     "data": {
      "image/png": "[encoded data removed]",
      "text/plain": [
       "<Figure size 432x288 with 1 Axes>"
      ]
     },
     "metadata": {
      "needs_background": "light"
     },
     "output_type": "display_data"
    }
   ],
   "source": [
    "# Histogram for two-step GMM\n",
    "\n",
    "b_draws_two_step = monte_carlo_estimates(N=1000, D=1000, func=two_step_gmm)\n",
    "_ = plt.hist(b_draws, bins=int(np.sqrt(N)))\n",
    "_ = plt.axvline(beta, color='r')"
   ]
  },
  {
   "cell_type": "code",
   "execution_count": 26,
   "metadata": {},
   "outputs": [
    {
     "data": {
      "image/png": "[encoded data removed]",
      "text/plain": [
       "<Figure size 432x288 with 1 Axes>"
      ]
     },
     "metadata": {
      "needs_background": "light"
     },
     "output_type": "display_data"
    }
   ],
   "source": [
    "# Histogram for iterated GMM \n",
    "\n",
    "b_draws_iterated = monte_carlo_estimates(N=1000, D=1000, func=iterated_gmm)\n",
    "_ = plt.hist(b_draws, bins=int(np.sqrt(N)))\n",
    "_ = plt.axvline(beta, color='r')"
   ]
  },
  {
   "cell_type": "code",
   "execution_count": 27,
   "metadata": {
    "scrolled": true
   },
   "outputs": [
    {
     "data": {
      "image/png": "[encoded data removed]",
      "text/plain": [
       "<Figure size 432x288 with 1 Axes>"
      ]
     },
     "metadata": {
      "needs_background": "light"
     },
     "output_type": "display_data"
    }
   ],
   "source": [
    "# Histogram for continuous GMM\n",
    "\n",
    "b_draws_continuous = monte_carlo_estimates(N=1000, D=1000, func=continuous_gmm)\n",
    "_ = plt.hist(b_draws, bins=int(np.sqrt(N)))\n",
    "_ = plt.axvline(beta, color='r')"
   ]
  },
  {
   "cell_type": "markdown",
   "metadata": {},
   "source": [
    "### 10b. Finite Sample Properties of Linear GMM\n",
    "(submitted to [Bcourses Discussion](https://bcourses.berkeley.edu/courses/1487913/discussion_topics/5756813) by Sara Johns)"
   ]
  },
  {
   "cell_type": "markdown",
   "metadata": {
    "colab_type": "text",
    "id": "RcjG8xYuK8nB"
   },
   "source": [
    "## Finite Sample Properties of Linear GMM\n",
    "#Ligon Lecture , April 20, 2020\n",
    "#Updated: Sara Johns, April 30, 2020\n"
   ]
  },
  {
   "cell_type": "markdown",
   "metadata": {
    "colab_type": "text",
    "id": "aDIZITSHK8nC"
   },
   "source": [
    "### Introduction\n",
    "\n"
   ]
  },
  {
   "cell_type": "markdown",
   "metadata": {
    "colab_type": "text",
    "id": "M4bS2qOPK8nC"
   },
   "source": [
    "GMM provides a generalized way to think about instrumental\n",
    "variables estimators, and we also have evidence that the finite\n",
    "sample properties of these estimators may be poor.  Here we&rsquo;ll\n",
    "construct a simple Monte Carlo framework within which to evaluate\n",
    "the finite-sample behavior of GMM linear IV estimators.\n",
    "\n"
   ]
  },
  {
   "cell_type": "markdown",
   "metadata": {
    "colab_type": "text",
    "id": "S4Fl15TJK8nD"
   },
   "source": [
    "### Asymptotic Variance of GMM estimator\n",
    "\n"
   ]
  },
  {
   "cell_type": "markdown",
   "metadata": {
    "colab_type": "text",
    "id": "1XQeOwlwK8nD"
   },
   "source": [
    "If we have $\\mbox{E}g_j(\\beta)g_j(\\beta)^\\top=\\Omega$ and\n",
    "$\\mbox{E}\\frac{\\partial g_j}{\\partial b^\\top}(\\beta)=Q$ then we&rsquo;ve\n",
    "seen that the asymptotic variance of the optimally weighted GMM\n",
    "estimator is\n",
    "$$\n",
    "       V_b = \\left(Q^\\top\\Omega^{-1}Q\\right)^{-1}.\n",
    "   $$\n",
    "\n"
   ]
  },
  {
   "cell_type": "markdown",
   "metadata": {
    "colab_type": "text",
    "id": "8ECvJ8veK8nE"
   },
   "source": [
    "### Data Generating Process\n",
    "\n"
   ]
  },
  {
   "cell_type": "markdown",
   "metadata": {
    "colab_type": "text",
    "id": "KP13PQtlK8nE"
   },
   "source": [
    "We consider the linear IV model\n",
    "\n",
    "\\begin{align*}\n",
    "   y &= X\\beta + u\\\\\n",
    "   \\mbox{E}Z^\\top u &= 0\n",
    "\\end{align*}\n",
    "\n",
    "Thus, we need to describe processes that generate $(X,Z,u)$.\n",
    "\n",
    "The following code block defines the important parameters governing\n",
    "the DGP; this is the &ldquo;TRUTH&rdquo; we&rsquo;re designing tools to reveal.  \n",
    "\n"
   ]
  },
  {
   "cell_type": "code",
   "execution_count": 0,
   "metadata": {
    "colab": {},
    "colab_type": "code",
    "id": "YAybucALK8nF"
   },
   "outputs": [],
   "source": [
    "import numpy as np\n",
    "from numpy.linalg import inv, norm\n",
    "import statistics as stats\n",
    "\n",
    "## Play with us!\n",
    "beta = 2    # \"Coefficient of interest\"\n",
    "gamma = 0.7    # Governs effect of u on X\n",
    "sigma_u = 12  # Note assumption of homoskedasticity, \n",
    "              #we started with sigma_u=1, then increased to =10\n",
    "## Play with us!\n",
    "\n",
    "# Let Z have order ell, and X order 1, with Var([X,Z]|u)=VXZ\n",
    "\n",
    "ell = 4 # Play with me too! Number of instruments\n",
    "\n",
    "# Arbitrary (but deterministic) choice for VXZ\n",
    "A = np.sqrt(1/np.arange(1,(ell+1)**2+1)).reshape((ell+1,ell+1)) \n",
    "\n",
    "\n",
    "## Below here we're less playful.\n",
    "\n",
    "# Var([X,Z]|u) is constructed so that pos. def.\n",
    "VXZ = A.T@A \n",
    "\n",
    "Q = VXZ[1:,[0]]  # EZX'\n",
    "\n",
    "truth = (beta,gamma,sigma_u,VXZ)\n",
    "\n",
    "## But play with Omega if you want to introduce heteroskedascity\n",
    "Omega = (sigma_u**2)*VXZ[1:,1:] # E(Zu)(u'Z')\n",
    "\n",
    "# Asymptotic variance of optimally weighted GMM estimator:\n",
    "print(inv(Q.T@inv(Omega)@Q))"
   ]
  },
  {
   "cell_type": "markdown",
   "metadata": {
    "colab_type": "text",
    "id": "EoC_Y5J1K8nI"
   },
   "source": [
    "Now code to generate $N$ realizations of $(y,X,Z)$ given some &ldquo;truth&rdquo;\n",
    "$(beta,gamma,sigma_u,VXZ)$:\n",
    "\n"
   ]
  },
  {
   "cell_type": "code",
   "execution_count": 0,
   "metadata": {
    "colab": {},
    "colab_type": "code",
    "id": "pxaJ8rM6K8nI"
   },
   "outputs": [],
   "source": [
    "from scipy.stats import distributions as iid\n",
    "\n",
    "def dgp(N,beta,gamma,sigma_u,VXZ):\n",
    "    \"\"\"Generate a tuple of (y,X,Z).\n",
    "\n",
    "    Satisfies model:\n",
    "        y = X@beta + u\n",
    "        E Z'u = 0\n",
    "        Var(u) = sigma^2\n",
    "        Cov(X,u) = gamma*sigma_u^2\n",
    "        Var([X,Z}|u) = VXZ\n",
    "        u,X,Z mean zero, Gaussian\n",
    "\n",
    "    Each element of the tuple is an array of N observations.\n",
    "\n",
    "    Inputs include\n",
    "    - beta :: the coefficient of interest\n",
    "    - gamma :: linear effect of disturbance on X\n",
    "    - sigma_u :: Variance of disturbance\n",
    "    - VXZ :: Cov([X,Z|u])\n",
    "    \"\"\"\n",
    "    \n",
    "    u = iid.norm.rvs(size=(N,1))*sigma_u\n",
    "\n",
    "    # \"Square root\" of VXZ via eigendecomposition\n",
    "    lbda,v = np.linalg.eig(VXZ)\n",
    "    SXZ = v@np.diag(np.sqrt(lbda))\n",
    "\n",
    "    # Generate normal random variates [X*,Z]\n",
    "    XZ = iid.norm.rvs(size=(N,VXZ.shape[0]))@SXZ.T\n",
    "\n",
    "    # But X is endogenous...\n",
    "    X = XZ[:,[0]] + gamma*u\n",
    "    Z = XZ[:,1:]\n",
    "\n",
    "    # Calculate y\n",
    "    y = X*beta + u\n",
    "\n",
    "    return y,X,Z"
   ]
  },
  {
   "cell_type": "markdown",
   "metadata": {
    "colab_type": "text",
    "id": "EgHgbynLK8nK"
   },
   "source": [
    "Check on DGP:\n",
    "\n"
   ]
  },
  {
   "cell_type": "code",
   "execution_count": 0,
   "metadata": {
    "colab": {},
    "colab_type": "code",
    "id": "WxGA2kOUK8nK"
   },
   "outputs": [],
   "source": [
    "N = 1000\n",
    "\n",
    "data = dgp(N,*truth)\n",
    "\n",
    "y,X,Z = data # Unpack tuple to check on things\n",
    "\n",
    "# Check that we've computed things correctly:\n",
    "print(VXZ)\n",
    "\n",
    "print(np.cov(np.c_[X,Z].T) - VXZ)"
   ]
  },
  {
   "cell_type": "markdown",
   "metadata": {
    "colab_type": "text",
    "id": "R0AhrMHCK8nN"
   },
   "source": [
    "### Estimation\n",
    "\n"
   ]
  },
  {
   "cell_type": "markdown",
   "metadata": {
    "colab_type": "text",
    "id": "S8YQrNC6K8nN"
   },
   "source": [
    "Now that we have a data-generating process we proceed with under\n",
    "   the conceit that we can observe samples generated by this process,\n",
    "   but otherwise temporarily &ldquo;forget&rdquo; the properties of the DGP, and use the\n",
    "   generated data to try to reconstruct aspects of the DGP.\n",
    "\n",
    "In our example, we consider using the optimally weighted linear IV\n",
    "estimator, and define a function which computes observation-level\n",
    "deviations from expectations for this model. To testimate a different\n",
    "model this is the function we&rsquo;d want to re-define.\n",
    "\n"
   ]
  },
  {
   "cell_type": "code",
   "execution_count": 0,
   "metadata": {
    "colab": {},
    "colab_type": "code",
    "id": "F5n-YlmRK8nN"
   },
   "outputs": [],
   "source": [
    "def gj(b,y,X,Z):\n",
    "    \"\"\"Observations of g_j(b).\n",
    "\n",
    "    This defines the deviations from the predictions of our model; i.e.,\n",
    "    e_j = Z_ju_j, where EZ_ju_j=0.\n",
    "\n",
    "    Can replace this function to testimate a different model.\n",
    "    \"\"\"\n",
    "    return Z*(y - X*b)"
   ]
  },
  {
   "cell_type": "markdown",
   "metadata": {
    "colab_type": "text",
    "id": "nRlgzQaNK8nP"
   },
   "source": [
    "#### Construct sample moments\n",
    "\n"
   ]
  },
  {
   "cell_type": "markdown",
   "metadata": {
    "colab_type": "text",
    "id": "i_UEpBv2K8nQ"
   },
   "source": [
    "Begin by defining a function to construct the sample moments given\n",
    "    the data and a parameter estimate $b$:\n",
    "\n"
   ]
  },
  {
   "cell_type": "code",
   "execution_count": 0,
   "metadata": {
    "colab": {},
    "colab_type": "code",
    "id": "8VieN_bvK8nQ"
   },
   "outputs": [],
   "source": [
    "def gN(b,data):\n",
    "    \"\"\"Averages of g_j(b).\n",
    "\n",
    "    This is generic for data, to be passed to gj.\n",
    "    \"\"\"\n",
    "    e = gj(b,*data)\n",
    "\n",
    "    # Check to see more obs. than moments.\n",
    "    assert e.shape[0] > e.shape[1]\n",
    "    \n",
    "    return e.mean(axis=0)"
   ]
  },
  {
   "cell_type": "markdown",
   "metadata": {
    "colab_type": "text",
    "id": "9Smmsv8nK8nT"
   },
   "source": [
    "#### Define estimator of Egg'\n",
    "\n"
   ]
  },
  {
   "cell_type": "markdown",
   "metadata": {
    "colab_type": "text",
    "id": "8ipx6GmPK8nT"
   },
   "source": [
    "Next we define a function to compute covariance matrix of moments.\n",
    "Re-centering can be important in finite samples, even if irrelevant in\n",
    "the limit.  Since we have $\\mbox{E}g_j(\\beta)=0$ under the null we may\n",
    "as well use this information when constructing our weighting matrix.\n",
    "\n"
   ]
  },
  {
   "cell_type": "code",
   "execution_count": 0,
   "metadata": {
    "colab": {},
    "colab_type": "code",
    "id": "PDhmrMBbK8nU"
   },
   "outputs": [],
   "source": [
    "def Omegahat(b,data):\n",
    "    e = gj(b,*data)\n",
    "\n",
    "    # Recenter! We have Eu=0 under null.\n",
    "    # Important to use this information. centering is important\n",
    "    e = e - e.mean(axis=0) \n",
    "    #could have writen return np.cov(e) divided by N e.shape[0]\n",
    "    return e.T@e/e.shape[0]"
   ]
  },
  {
   "cell_type": "markdown",
   "metadata": {
    "colab_type": "text",
    "id": "EOhavPuCK8nV"
   },
   "source": [
    "Next, check construction of criterion given our data.  We want\n",
    "something that looks nice and quadratic, at least in the neighborhood\n",
    "of $\\beta$.\n",
    "\n",
    "Check construction of weighting matrix for our data at true parameter $\\beta$.\n",
    "\n"
   ]
  },
  {
   "cell_type": "code",
   "execution_count": 0,
   "metadata": {
    "colab": {},
    "colab_type": "code",
    "id": "jpAcTiiSK8nW"
   },
   "outputs": [],
   "source": [
    "Winv = Omegahat(beta,data) \n",
    "print(Winv)"
   ]
  },
  {
   "cell_type": "markdown",
   "metadata": {
    "colab_type": "text",
    "id": "aWFqZDVWK8nY"
   },
   "source": [
    "Define the criterion function given a weighting matrix $W$:\n",
    "\n"
   ]
  },
  {
   "cell_type": "code",
   "execution_count": 0,
   "metadata": {
    "colab": {},
    "colab_type": "code",
    "id": "Odamz94vK8nY"
   },
   "outputs": [],
   "source": [
    "def J(b,W,data):\n",
    "\n",
    "    m = gN(b,data) # Sample moments m  @ b\n",
    "    N = data[0].shape[0]  # number of observ\n",
    "\n",
    "    return N*m.T@W@m # Scale by sample size"
   ]
  },
  {
   "cell_type": "markdown",
   "metadata": {
    "colab_type": "text",
    "id": "x3JW01GiK8nb"
   },
   "source": [
    "Next, check construction of criterion given our data.  We want\n",
    "something that looks nice and quadratic, at least in the neighborhood\n",
    "of $\\beta$.  Note that comparing the criterion to the critical values\n",
    "of the $\\chi^2$ statistic gives us an alternative way to construct\n",
    "confidence intervals.\n",
    "\n"
   ]
  },
  {
   "cell_type": "code",
   "execution_count": 0,
   "metadata": {
    "colab": {},
    "colab_type": "code",
    "id": "0QFxf9VcK8nb"
   },
   "outputs": [],
   "source": [
    "from matplotlib import pyplot as plt\n",
    "%matplotlib inline\n",
    "\n",
    "# Limiting distribution of criterion (under null)\n",
    "limiting_J = iid.chi2(ell-1)\n",
    "\n",
    "# Limiting SE of b should be in theory\n",
    "sigma_0 = np.sqrt(inv(Q.T@inv(Winv)@Q)/N)[0][0] \n",
    "\n",
    "# Choose 8 sigma_0 neighborhood of \"truth\"\n",
    "B = np.linspace(beta-4*sigma_0,beta+4*sigma_0,100)\n",
    "W = inv(Winv)\n",
    "\n",
    "#blue is the criterion function\n",
    "#red line is the critical value of chi square stat\n",
    "\n",
    "_ = plt.plot(B,[J(b,W,data) for b in B.tolist()])\n",
    "_ = plt.axhline(limiting_J.isf(0.05),color='r')"
   ]
  },
  {
   "cell_type": "markdown",
   "metadata": {
    "colab_type": "text",
    "id": "rXDLnLFiK8nd"
   },
   "source": [
    "#### Two Step Estimator\n",
    "\n"
   ]
  },
  {
   "cell_type": "markdown",
   "metadata": {
    "colab_type": "text",
    "id": "Uah0ex6JK8ne"
   },
   "source": [
    "We next implement the two-step GMM estimator\n",
    "\n"
   ]
  },
  {
   "cell_type": "code",
   "execution_count": 0,
   "metadata": {
    "colab": {},
    "colab_type": "code",
    "id": "qD7CV6I0K8ne"
   },
   "outputs": [],
   "source": [
    "from scipy.optimize import minimize_scalar\n",
    "\n",
    "def two_step_gmm(data):\n",
    "\n",
    "    # First step uses identity weighting matrix\n",
    "    W1 = np.eye(gj(1,*data).shape[1])\n",
    "\n",
    "    b1 = minimize_scalar(lambda b: J(b,W1,data)).x \n",
    "\n",
    "    # Construct 2nd step weighting matrix using\n",
    "    # first step estimate of beta\n",
    "    W2 = inv(Omegahat(b1,data))\n",
    "\n",
    "    return minimize_scalar(lambda b: J(b,W2,data))"
   ]
  },
  {
   "cell_type": "markdown",
   "metadata": {
    "colab_type": "text",
    "id": "gooQB3fXK8ng"
   },
   "source": [
    "Now let&rsquo;s try it with an actual sample, just to see that things work:\n",
    "\n"
   ]
  },
  {
   "cell_type": "code",
   "execution_count": 0,
   "metadata": {
    "colab": {},
    "colab_type": "code",
    "id": "7W9fn5lXK8ng"
   },
   "outputs": [],
   "source": [
    "soltn = two_step_gmm(data)\n",
    "\n",
    "print(\"b=%f, J=%f, Critical J=%f\" % (soltn.x,soltn.fun,limiting_J.isf(0.05)))"
   ]
  },
  {
   "cell_type": "markdown",
   "metadata": {
    "colab_type": "text",
    "id": "Sag1DTxmK8ni"
   },
   "source": [
    "#### Iterated GMM"
   ]
  },
  {
   "cell_type": "markdown",
   "metadata": {
    "colab_type": "text",
    "id": "cgVWUmgwK8ni"
   },
   "source": [
    "We next implement the iterated GMM estimator. This is similar to two step, but we will continue the process until we get convergence. There was discussion about whether convergence means convergence in b or convergence in $\\hat{\\Omega}$. I referenced Hansen, Heaton, and Yaron (1996) which uses convergence in b and so that is what I do here."
   ]
  },
  {
   "cell_type": "code",
   "execution_count": 0,
   "metadata": {
    "colab": {},
    "colab_type": "code",
    "id": "AUs4jxn5K8nj"
   },
   "outputs": [],
   "source": [
    "def iterated_gmm(data, epsilon):\n",
    "\n",
    "    # First use identity weighting matrix\n",
    "    W1 = np.eye(gj(1,*data).shape[1])\n",
    "    \n",
    "    # set initial b_1, b_2 for while loop\n",
    "    b_1 = 10\n",
    "    b_2 = 0\n",
    "    \n",
    "    j = 1\n",
    "    \n",
    "    # Now iterate: will continue until norm is less than some epsilon\n",
    "    while norm(b_2 - b_1) > epsilon:\n",
    "        \n",
    "        j += 1\n",
    "        \n",
    "        # calculate b1 \n",
    "        b_1 = minimize_scalar(lambda b: J(b,W1,data)).x\n",
    "\n",
    "        # Update weighting matrix\n",
    "        W1 = inv(Omegahat(b_1,data))\n",
    "        \n",
    "        # calculate b2\n",
    "        b_2 = minimize_scalar(lambda b: J(b,W1,data)).x\n",
    "    \n",
    "        if j > 10000:\n",
    "            break\n",
    "    \n",
    "    # get all the stuff we want\n",
    "    b_final = minimize_scalar(lambda b: J(b,W1,data))\n",
    "\n",
    "    return(b_final) "
   ]
  },
  {
   "cell_type": "markdown",
   "metadata": {
    "colab_type": "text",
    "id": "ekMnqEZ6K8nl"
   },
   "source": [
    "Now test it:"
   ]
  },
  {
   "cell_type": "code",
   "execution_count": 0,
   "metadata": {
    "colab": {},
    "colab_type": "code",
    "id": "Tf-v87SxK8nl"
   },
   "outputs": [],
   "source": [
    "soltn_itt = iterated_gmm(data, 0.00001)\n",
    "\n",
    "print(\"b=%f, J=%f, Critical J=%f\" % (soltn_itt.x,soltn_itt.fun,limiting_J.isf(0.05)))"
   ]
  },
  {
   "cell_type": "markdown",
   "metadata": {
    "colab_type": "text",
    "id": "xmrQ8NkDK8nn"
   },
   "source": [
    "#### Continuously updated GMM"
   ]
  },
  {
   "cell_type": "markdown",
   "metadata": {
    "colab_type": "text",
    "id": "pG8gIKcDK8nn"
   },
   "source": [
    "Now we write the weighting matrix as a function of b. "
   ]
  },
  {
   "cell_type": "code",
   "execution_count": 0,
   "metadata": {
    "colab": {},
    "colab_type": "code",
    "id": "hwH3wij_K8no"
   },
   "outputs": [],
   "source": [
    "def J_cu(b,data):\n",
    "\n",
    "    m = gN(b,data) # Sample moments m  @ b\n",
    "    N = data[0].shape[0]  # number of observ\n",
    "    \n",
    "    # continuously updating minimizes the objective with a weighting matrix that is a function of b\n",
    "    return N*m.T@inv(Omegahat(b,data))@m # Scale by sample size"
   ]
  },
  {
   "cell_type": "markdown",
   "metadata": {
    "colab_type": "text",
    "id": "0OVEuUa0K8np"
   },
   "source": [
    "Now test it:"
   ]
  },
  {
   "cell_type": "code",
   "execution_count": 0,
   "metadata": {
    "colab": {},
    "colab_type": "code",
    "id": "kczc_e48K8nq"
   },
   "outputs": [],
   "source": [
    "soltn_cu = minimize_scalar(lambda b: J_cu(b,data))\n",
    "\n",
    "print(\"b=%f, J=%f, Critical J=%f\" % (soltn_cu.x,soltn_cu.fun,limiting_J.isf(0.05)))"
   ]
  },
  {
   "cell_type": "markdown",
   "metadata": {
    "colab_type": "text",
    "id": "fhaPJ_tcK8nr"
   },
   "source": [
    "### Monte Carlo Experiment\n",
    "\n"
   ]
  },
  {
   "cell_type": "markdown",
   "metadata": {
    "colab_type": "text",
    "id": "5-F8Q-QnK8ns"
   },
   "source": [
    "Now our experiment begins.  We set our frequentist hats firmly on our\n",
    "heads, and draw repeated samples of data, each generating a\n",
    "corresponding estimate of beta.  Then the empirical distribution of\n",
    "these samples tells us about the *finite* sample performance of our estimator.\n",
    "\n",
    "We&rsquo;ll generate a sample of estimates of $b$ by drawing repeated\n",
    "samples of size $N$:\n",
    "\n"
   ]
  },
  {
   "cell_type": "code",
   "execution_count": 0,
   "metadata": {
    "colab": {},
    "colab_type": "code",
    "id": "ydAEqifEK8ns",
    "scrolled": true
   },
   "outputs": [],
   "source": [
    "N = 1000 # Sample size\n",
    "\n",
    "D = 1000 # Monte Carlo draws\n",
    "\n",
    "b_draws_2s = []\n",
    "J_draws_2s = []\n",
    "b_draws_itt = []\n",
    "J_draws_itt = []\n",
    "b_draws_cu = []\n",
    "J_draws_cu = []\n",
    "for d in range(D):\n",
    "    mc_data = dgp(N,*truth)\n",
    "    soltn = two_step_gmm(mc_data)\n",
    "    b_draws_2s.append(soltn.x)\n",
    "    J_draws_2s.append(soltn.fun)\n",
    "    \n",
    "    soltn_itt = iterated_gmm(mc_data, 0.00001)\n",
    "    b_draws_itt.append(soltn_itt.x)\n",
    "    J_draws_itt.append(soltn_itt.fun)\n",
    "    \n",
    "    soltn_cu = minimize_scalar(lambda b: J_cu(b,mc_data))\n",
    "    b_draws_cu.append(soltn_cu.x)\n",
    "    J_draws_cu.append(soltn_cu.fun)"
   ]
  },
  {
   "cell_type": "code",
   "execution_count": 0,
   "metadata": {
    "colab": {},
    "colab_type": "code",
    "id": "o7gfJC0tK8nu"
   },
   "outputs": [],
   "source": [
    "# Function for histograms (thanks to Connor):\n",
    "def graph_hist(data, caption):\n",
    "    \"\"\"Plot a histogram of the relevant data\"\"\"\n",
    "    plt.hist(data, bins='auto')\n",
    "    plt.title(caption)\n",
    "    plt.axvline(stats.mean(data), color='k', linestyle='dashed', linewidth=1)\n",
    "    plt.axvline(stats.median(data), color='w', linestyle='dashed', linewidth=1)\n",
    "    plt.axvline(beta, color='r', linestyle='dashed', linewidth=1)\n",
    "    plt.show()\n",
    "    print(\"Estimate:\", stats.mean(data))"
   ]
  },
  {
   "cell_type": "markdown",
   "metadata": {
    "colab_type": "text",
    "id": "JcCsyNNZK8nw"
   },
   "source": [
    "Plot two-step GMM:"
   ]
  },
  {
   "cell_type": "code",
   "execution_count": 0,
   "metadata": {
    "colab": {},
    "colab_type": "code",
    "id": "ARygEyDCK8nw"
   },
   "outputs": [],
   "source": [
    "graph_hist(b_draws_2s,\"Distribution of b: two-step GMM\")"
   ]
  },
  {
   "cell_type": "markdown",
   "metadata": {
    "colab_type": "text",
    "id": "NcnmhELXK8ny"
   },
   "source": [
    "Plot iterated GMM:"
   ]
  },
  {
   "cell_type": "code",
   "execution_count": 0,
   "metadata": {
    "colab": {},
    "colab_type": "code",
    "id": "uBd0iLixK8ny"
   },
   "outputs": [],
   "source": [
    "graph_hist(b_draws_itt,\"Distribution of b: iterated GMM\")"
   ]
  },
  {
   "cell_type": "markdown",
   "metadata": {
    "colab_type": "text",
    "id": "RfmGNpXxK8n1"
   },
   "source": [
    "Plot continuously updated GMM:"
   ]
  },
  {
   "cell_type": "code",
   "execution_count": 0,
   "metadata": {
    "colab": {},
    "colab_type": "code",
    "id": "23h8K8LxK8n1"
   },
   "outputs": [],
   "source": [
    "graph_hist(b_draws_cu,\"Distribution of b: continuously updated GMM\")"
   ]
  },
  {
   "cell_type": "markdown",
   "metadata": {
    "colab_type": "text",
    "id": "dkcXexmIK8n3"
   },
   "source": [
    "### Distribution of Monte Carlo draws vs. Asymptotic distribution\n",
    "\n"
   ]
  },
  {
   "cell_type": "markdown",
   "metadata": {
    "colab_type": "text",
    "id": "g_gkm_iVK8n3"
   },
   "source": [
    "Compare Monte Carlo standard errors with asymptotic approximation:\n",
    "\n"
   ]
  },
  {
   "cell_type": "code",
   "execution_count": 0,
   "metadata": {
    "colab": {},
    "colab_type": "code",
    "id": "wtENK73hK8n4"
   },
   "outputs": [],
   "source": [
    "# Limiting distribution of estimator\n",
    "\n",
    "limiting_b = iid.norm(scale=sigma_0)\n",
    "\n",
    "print(\"Bootstrapped standard errors two step: %g\" % np.std(b_draws_2s))\n",
    "print(\"Bootstrapped standard errors iterated: %g\" % np.std(b_draws_itt))\n",
    "print(\"Bootstrapped standard errors CU: %g\" % np.std(b_draws_cu))\n",
    "print(\"Asymptotic approximation: %g\" % sigma_0)\n",
    "print(\"Critical value for J statistic: %g (5%%)\" % limiting_J.isf(.05))"
   ]
  },
  {
   "cell_type": "markdown",
   "metadata": {
    "colab_type": "text",
    "id": "LIrf1q8EK8n5"
   },
   "source": [
    "Now construct probability plot (bootstrapped $b$s vs. quantiles of\n",
    "limiting distribution) - two step GMM:\n",
    "\n"
   ]
  },
  {
   "cell_type": "code",
   "execution_count": 0,
   "metadata": {
    "colab": {},
    "colab_type": "code",
    "id": "dbTfnT4PK8n6"
   },
   "outputs": [],
   "source": [
    "from scipy.stats import probplot\n",
    "\n",
    "_ = probplot(b_draws_2s,dist=limiting_b,fit=False,plot=plt)"
   ]
  },
  {
   "cell_type": "markdown",
   "metadata": {
    "colab_type": "text",
    "id": "aOe0lo2_K8n7"
   },
   "source": [
    "And for iterated GMM:"
   ]
  },
  {
   "cell_type": "code",
   "execution_count": 0,
   "metadata": {
    "colab": {},
    "colab_type": "code",
    "id": "qxzBlktzK8n8",
    "scrolled": true
   },
   "outputs": [],
   "source": [
    "_ = probplot(b_draws_itt,dist=limiting_b,fit=False,plot=plt)"
   ]
  },
  {
   "cell_type": "markdown",
   "metadata": {
    "colab_type": "text",
    "id": "78RnEUxXK8n9"
   },
   "source": [
    "And for continuously updated GMM:"
   ]
  },
  {
   "cell_type": "code",
   "execution_count": 0,
   "metadata": {
    "colab": {},
    "colab_type": "code",
    "id": "qhrv5cBpK8n-"
   },
   "outputs": [],
   "source": [
    "_ = probplot(b_draws_cu,dist=limiting_b,fit=False,plot=plt)"
   ]
  },
  {
   "cell_type": "markdown",
   "metadata": {
    "colab_type": "text",
    "id": "mtjjHw3FK8oA"
   },
   "source": [
    "Next, consider the a $p$-$p$ plot for $J$ statistics (recall these\n",
    "should be distributed $\\chi^2_{\\ell-1}$).\n",
    "\n"
   ]
  },
  {
   "cell_type": "code",
   "execution_count": 0,
   "metadata": {
    "colab": {},
    "colab_type": "code",
    "id": "eEXbTknEK8oA"
   },
   "outputs": [],
   "source": [
    "def ppplot(data,dist):\n",
    "    data = np.array(data)\n",
    "\n",
    "    # Theoretical CDF, evaluated at points of data\n",
    "    P = [dist.cdf(x) for x in data.tolist()]\n",
    "\n",
    "    # Empirical CDF, evaluated at points of data\n",
    "    Phat = [(data<x).mean() for x in data.tolist()]\n",
    "\n",
    "    fig, ax = plt.subplots()\n",
    "    \n",
    "    ax.scatter(P,Phat)\n",
    "    ax.plot([0,1],[0,1],color='r') # Plot 45\n",
    "    ax.set_xlabel('Theoretical Distribution')\n",
    "    ax.set_ylabel('Empirical Distribution')\n",
    "    ax.set_title('p-p Plot')\n",
    "\n",
    "    return ax"
   ]
  },
  {
   "cell_type": "markdown",
   "metadata": {
    "colab_type": "text",
    "id": "J3BgHoXVK8oC"
   },
   "source": [
    "For two-step GMM:"
   ]
  },
  {
   "cell_type": "code",
   "execution_count": 0,
   "metadata": {
    "colab": {},
    "colab_type": "code",
    "id": "r-qvi4tPK8oC",
    "scrolled": true
   },
   "outputs": [],
   "source": [
    "_ = ppplot(J_draws_2s, limiting_J)"
   ]
  },
  {
   "cell_type": "markdown",
   "metadata": {
    "colab_type": "text",
    "id": "15AP_rPZK8oE"
   },
   "source": [
    "For iterated GMM:"
   ]
  },
  {
   "cell_type": "code",
   "execution_count": 0,
   "metadata": {
    "colab": {},
    "colab_type": "code",
    "id": "yPByhJDdK8oE"
   },
   "outputs": [],
   "source": [
    "_ = ppplot(J_draws_itt, limiting_J)"
   ]
  },
  {
   "cell_type": "markdown",
   "metadata": {
    "colab_type": "text",
    "id": "v35tGhzGK8oG"
   },
   "source": [
    "For continuously updated GMM:"
   ]
  },
  {
   "cell_type": "code",
   "execution_count": 0,
   "metadata": {
    "colab": {},
    "colab_type": "code",
    "id": "fxBluQsZK8oG",
    "scrolled": true
   },
   "outputs": [],
   "source": [
    "_ = ppplot(J_draws_cu, limiting_J)"
   ]
  },
  {
   "cell_type": "markdown",
   "metadata": {
    "colab_type": "text",
    "id": "pGwfih-UK8oJ"
   },
   "source": [
    "#### Takeaways:\n",
    "With small sample size, $\\ell > k$ , and large variance (high $\\sigma_u$) we see that\n",
    "- Continuously updated GMM has less bias, but fatter tails\n",
    "- The limiting distributions of b are similar\n",
    "- The J statistic is better for continuously updated GMM, better to use to test for overidentifying restrictions"
   ]
  },
  {
   "cell_type": "markdown",
   "metadata": {
    "colab_type": "text",
    "id": "Uua7uSKvK8oK"
   },
   "source": [
    "#### Notes about other parameters tested:\n",
    "\n",
    "1. In just identified case, methods are the same.\n",
    "2. Small variance tends to give us nice results for all methods.\n",
    "3. Similarly, large sample size (even when variance is high) gives us nice results."
   ]
  },
  {
   "cell_type": "markdown",
   "metadata": {},
   "source": []
  },
  {
   "cell_type": "markdown",
   "metadata": {},
   "source": [
    "## Final Word"
   ]
  },
  {
   "cell_type": "markdown",
   "metadata": {},
   "source": [
    "TBD"
   ]
  }
 ],
 "metadata": {
  "kernelspec": {
   "display_name": "Python 3",
   "language": "python",
   "name": "python3"
  },
  "org": null
 },
 "nbformat": 4,
 "nbformat_minor": 4
}
